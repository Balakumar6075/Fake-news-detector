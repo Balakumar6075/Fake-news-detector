{
  "cells": [
    {
      "cell_type": "markdown",
      "metadata": {
        "id": "view-in-github",
        "colab_type": "text"
      },
      "source": [
        "<a href=\"https://colab.research.google.com/github/Balakumar6075/Fake-news-detector/blob/main/Copy_of_b2_FakeNewDetection.ipynb\" target=\"_parent\"><img src=\"https://colab.research.google.com/assets/colab-badge.svg\" alt=\"Open In Colab\"/></a>"
      ]
    },
    {
      "cell_type": "markdown",
      "source": [
        "## Setup Environment"
      ],
      "metadata": {
        "id": "qb9qKvDdMbNX"
      }
    },
    {
      "cell_type": "code",
      "source": [
        "# Install specific libraries\n",
        "! pip install transformers\n",
        "! pip install pycaret"
      ],
      "metadata": {
        "id": "jYNPBqRnEdJT",
        "colab": {
          "base_uri": "https://localhost:8080/",
          "height": 1000
        },
        "outputId": "65dd6972-5507-4368-d333-0f2087061a39"
      },
      "execution_count": null,
      "outputs": [
        {
          "output_type": "stream",
          "name": "stdout",
          "text": [
            "Requirement already satisfied: transformers in /usr/local/lib/python3.11/dist-packages (4.48.3)\n",
            "Requirement already satisfied: filelock in /usr/local/lib/python3.11/dist-packages (from transformers) (3.17.0)\n",
            "Requirement already satisfied: huggingface-hub<1.0,>=0.24.0 in /usr/local/lib/python3.11/dist-packages (from transformers) (0.28.1)\n",
            "Requirement already satisfied: numpy>=1.17 in /usr/local/lib/python3.11/dist-packages (from transformers) (1.26.4)\n",
            "Requirement already satisfied: packaging>=20.0 in /usr/local/lib/python3.11/dist-packages (from transformers) (24.2)\n",
            "Requirement already satisfied: pyyaml>=5.1 in /usr/local/lib/python3.11/dist-packages (from transformers) (6.0.2)\n",
            "Requirement already satisfied: regex!=2019.12.17 in /usr/local/lib/python3.11/dist-packages (from transformers) (2024.11.6)\n",
            "Requirement already satisfied: requests in /usr/local/lib/python3.11/dist-packages (from transformers) (2.32.3)\n",
            "Requirement already satisfied: tokenizers<0.22,>=0.21 in /usr/local/lib/python3.11/dist-packages (from transformers) (0.21.0)\n",
            "Requirement already satisfied: safetensors>=0.4.1 in /usr/local/lib/python3.11/dist-packages (from transformers) (0.5.2)\n",
            "Requirement already satisfied: tqdm>=4.27 in /usr/local/lib/python3.11/dist-packages (from transformers) (4.67.1)\n",
            "Requirement already satisfied: fsspec>=2023.5.0 in /usr/local/lib/python3.11/dist-packages (from huggingface-hub<1.0,>=0.24.0->transformers) (2024.10.0)\n",
            "Requirement already satisfied: typing-extensions>=3.7.4.3 in /usr/local/lib/python3.11/dist-packages (from huggingface-hub<1.0,>=0.24.0->transformers) (4.12.2)\n",
            "Requirement already satisfied: charset-normalizer<4,>=2 in /usr/local/lib/python3.11/dist-packages (from requests->transformers) (3.4.1)\n",
            "Requirement already satisfied: idna<4,>=2.5 in /usr/local/lib/python3.11/dist-packages (from requests->transformers) (3.10)\n",
            "Requirement already satisfied: urllib3<3,>=1.21.1 in /usr/local/lib/python3.11/dist-packages (from requests->transformers) (2.3.0)\n",
            "Requirement already satisfied: certifi>=2017.4.17 in /usr/local/lib/python3.11/dist-packages (from requests->transformers) (2025.1.31)\n",
            "Collecting pycaret\n",
            "  Downloading pycaret-3.3.2-py3-none-any.whl.metadata (17 kB)\n",
            "Requirement already satisfied: ipython>=5.5.0 in /usr/local/lib/python3.11/dist-packages (from pycaret) (7.34.0)\n",
            "Requirement already satisfied: ipywidgets>=7.6.5 in /usr/local/lib/python3.11/dist-packages (from pycaret) (7.7.1)\n",
            "Requirement already satisfied: tqdm>=4.62.0 in /usr/local/lib/python3.11/dist-packages (from pycaret) (4.67.1)\n",
            "Requirement already satisfied: numpy<1.27,>=1.21 in /usr/local/lib/python3.11/dist-packages (from pycaret) (1.26.4)\n",
            "Collecting pandas<2.2.0 (from pycaret)\n",
            "  Downloading pandas-2.1.4-cp311-cp311-manylinux_2_17_x86_64.manylinux2014_x86_64.whl.metadata (18 kB)\n",
            "Requirement already satisfied: jinja2>=3 in /usr/local/lib/python3.11/dist-packages (from pycaret) (3.1.5)\n",
            "Collecting scipy<=1.11.4,>=1.6.1 (from pycaret)\n",
            "  Downloading scipy-1.11.4-cp311-cp311-manylinux_2_17_x86_64.manylinux2014_x86_64.whl.metadata (60 kB)\n",
            "\u001b[2K     \u001b[90m━━━━━━━━━━━━━━━━━━━━━━━━━━━━━━━━━━━━━━━━\u001b[0m \u001b[32m60.4/60.4 kB\u001b[0m \u001b[31m4.6 MB/s\u001b[0m eta \u001b[36m0:00:00\u001b[0m\n",
            "\u001b[?25hCollecting joblib<1.4,>=1.2.0 (from pycaret)\n",
            "  Downloading joblib-1.3.2-py3-none-any.whl.metadata (5.4 kB)\n",
            "Requirement already satisfied: scikit-learn>1.4.0 in /usr/local/lib/python3.11/dist-packages (from pycaret) (1.6.1)\n",
            "Collecting pyod>=1.1.3 (from pycaret)\n",
            "  Downloading pyod-2.0.3.tar.gz (169 kB)\n",
            "\u001b[2K     \u001b[90m━━━━━━━━━━━━━━━━━━━━━━━━━━━━━━━━━━━━━━━━\u001b[0m \u001b[32m169.6/169.6 kB\u001b[0m \u001b[31m13.0 MB/s\u001b[0m eta \u001b[36m0:00:00\u001b[0m\n",
            "\u001b[?25h  Preparing metadata (setup.py) ... \u001b[?25l\u001b[?25hdone\n",
            "Requirement already satisfied: imbalanced-learn>=0.12.0 in /usr/local/lib/python3.11/dist-packages (from pycaret) (0.13.0)\n",
            "Collecting category-encoders>=2.4.0 (from pycaret)\n",
            "  Downloading category_encoders-2.8.0-py3-none-any.whl.metadata (7.9 kB)\n",
            "Requirement already satisfied: lightgbm>=3.0.0 in /usr/local/lib/python3.11/dist-packages (from pycaret) (4.5.0)\n",
            "Requirement already satisfied: numba>=0.55.0 in /usr/local/lib/python3.11/dist-packages (from pycaret) (0.61.0)\n",
            "Requirement already satisfied: requests>=2.27.1 in /usr/local/lib/python3.11/dist-packages (from pycaret) (2.32.3)\n",
            "Requirement already satisfied: psutil>=5.9.0 in /usr/local/lib/python3.11/dist-packages (from pycaret) (5.9.5)\n",
            "Requirement already satisfied: markupsafe>=2.0.1 in /usr/local/lib/python3.11/dist-packages (from pycaret) (3.0.2)\n",
            "Requirement already satisfied: importlib-metadata>=4.12.0 in /usr/local/lib/python3.11/dist-packages (from pycaret) (8.6.1)\n",
            "Requirement already satisfied: nbformat>=4.2.0 in /usr/local/lib/python3.11/dist-packages (from pycaret) (5.10.4)\n",
            "Requirement already satisfied: cloudpickle in /usr/local/lib/python3.11/dist-packages (from pycaret) (3.1.1)\n",
            "Collecting deprecation>=2.1.0 (from pycaret)\n",
            "  Downloading deprecation-2.1.0-py2.py3-none-any.whl.metadata (4.6 kB)\n",
            "Collecting xxhash (from pycaret)\n",
            "  Downloading xxhash-3.5.0-cp311-cp311-manylinux_2_17_x86_64.manylinux2014_x86_64.whl.metadata (12 kB)\n",
            "Collecting matplotlib<3.8.0 (from pycaret)\n",
            "  Downloading matplotlib-3.7.5-cp311-cp311-manylinux_2_17_x86_64.manylinux2014_x86_64.whl.metadata (5.7 kB)\n",
            "Collecting scikit-plot>=0.3.7 (from pycaret)\n",
            "  Downloading scikit_plot-0.3.7-py3-none-any.whl.metadata (7.1 kB)\n",
            "Requirement already satisfied: yellowbrick>=1.4 in /usr/local/lib/python3.11/dist-packages (from pycaret) (1.5)\n",
            "Requirement already satisfied: plotly>=5.14.0 in /usr/local/lib/python3.11/dist-packages (from pycaret) (5.24.1)\n",
            "Collecting kaleido>=0.2.1 (from pycaret)\n",
            "  Downloading kaleido-0.2.1-py2.py3-none-manylinux1_x86_64.whl.metadata (15 kB)\n",
            "Collecting schemdraw==0.15 (from pycaret)\n",
            "  Downloading schemdraw-0.15-py3-none-any.whl.metadata (2.2 kB)\n",
            "Collecting plotly-resampler>=0.8.3.1 (from pycaret)\n",
            "  Downloading plotly_resampler-0.10.0-py3-none-any.whl.metadata (13 kB)\n",
            "Requirement already satisfied: statsmodels>=0.12.1 in /usr/local/lib/python3.11/dist-packages (from pycaret) (0.14.4)\n",
            "Collecting sktime==0.26.0 (from pycaret)\n",
            "  Downloading sktime-0.26.0-py3-none-any.whl.metadata (29 kB)\n",
            "Collecting tbats>=1.1.3 (from pycaret)\n",
            "  Downloading tbats-1.1.3-py3-none-any.whl.metadata (3.8 kB)\n",
            "Collecting pmdarima>=2.0.4 (from pycaret)\n",
            "  Downloading pmdarima-2.0.4-cp311-cp311-manylinux_2_17_x86_64.manylinux2014_x86_64.manylinux_2_28_x86_64.whl.metadata (7.8 kB)\n",
            "Collecting wurlitzer (from pycaret)\n",
            "  Downloading wurlitzer-3.1.1-py3-none-any.whl.metadata (2.5 kB)\n",
            "Requirement already satisfied: packaging in /usr/local/lib/python3.11/dist-packages (from sktime==0.26.0->pycaret) (24.2)\n",
            "Collecting scikit-base<0.8.0 (from sktime==0.26.0->pycaret)\n",
            "  Downloading scikit_base-0.7.8-py3-none-any.whl.metadata (8.8 kB)\n",
            "Collecting scikit-learn>1.4.0 (from pycaret)\n",
            "  Downloading scikit_learn-1.4.2-cp311-cp311-manylinux_2_17_x86_64.manylinux2014_x86_64.whl.metadata (11 kB)\n",
            "Requirement already satisfied: patsy>=0.5.1 in /usr/local/lib/python3.11/dist-packages (from category-encoders>=2.4.0->pycaret) (1.0.1)\n",
            "INFO: pip is looking at multiple versions of category-encoders to determine which version is compatible with other requirements. This could take a while.\n",
            "Collecting category-encoders>=2.4.0 (from pycaret)\n",
            "  Downloading category_encoders-2.7.0-py3-none-any.whl.metadata (7.9 kB)\n",
            "Requirement already satisfied: sklearn-compat<1,>=0.1 in /usr/local/lib/python3.11/dist-packages (from imbalanced-learn>=0.12.0->pycaret) (0.1.3)\n",
            "Requirement already satisfied: threadpoolctl<4,>=2.0.0 in /usr/local/lib/python3.11/dist-packages (from imbalanced-learn>=0.12.0->pycaret) (3.5.0)\n",
            "Requirement already satisfied: zipp>=3.20 in /usr/local/lib/python3.11/dist-packages (from importlib-metadata>=4.12.0->pycaret) (3.21.0)\n",
            "Requirement already satisfied: setuptools>=18.5 in /usr/local/lib/python3.11/dist-packages (from ipython>=5.5.0->pycaret) (75.1.0)\n",
            "Collecting jedi>=0.16 (from ipython>=5.5.0->pycaret)\n",
            "  Downloading jedi-0.19.2-py2.py3-none-any.whl.metadata (22 kB)\n",
            "Requirement already satisfied: decorator in /usr/local/lib/python3.11/dist-packages (from ipython>=5.5.0->pycaret) (4.4.2)\n",
            "Requirement already satisfied: pickleshare in /usr/local/lib/python3.11/dist-packages (from ipython>=5.5.0->pycaret) (0.7.5)\n",
            "Requirement already satisfied: traitlets>=4.2 in /usr/local/lib/python3.11/dist-packages (from ipython>=5.5.0->pycaret) (5.7.1)\n",
            "Requirement already satisfied: prompt-toolkit!=3.0.0,!=3.0.1,<3.1.0,>=2.0.0 in /usr/local/lib/python3.11/dist-packages (from ipython>=5.5.0->pycaret) (3.0.50)\n",
            "Requirement already satisfied: pygments in /usr/local/lib/python3.11/dist-packages (from ipython>=5.5.0->pycaret) (2.18.0)\n",
            "Requirement already satisfied: backcall in /usr/local/lib/python3.11/dist-packages (from ipython>=5.5.0->pycaret) (0.2.0)\n",
            "Requirement already satisfied: matplotlib-inline in /usr/local/lib/python3.11/dist-packages (from ipython>=5.5.0->pycaret) (0.1.7)\n",
            "Requirement already satisfied: pexpect>4.3 in /usr/local/lib/python3.11/dist-packages (from ipython>=5.5.0->pycaret) (4.9.0)\n",
            "Requirement already satisfied: ipykernel>=4.5.1 in /usr/local/lib/python3.11/dist-packages (from ipywidgets>=7.6.5->pycaret) (6.17.1)\n",
            "Requirement already satisfied: ipython-genutils~=0.2.0 in /usr/local/lib/python3.11/dist-packages (from ipywidgets>=7.6.5->pycaret) (0.2.0)\n",
            "Requirement already satisfied: widgetsnbextension~=3.6.0 in /usr/local/lib/python3.11/dist-packages (from ipywidgets>=7.6.5->pycaret) (3.6.10)\n",
            "Requirement already satisfied: jupyterlab-widgets>=1.0.0 in /usr/local/lib/python3.11/dist-packages (from ipywidgets>=7.6.5->pycaret) (3.0.13)\n",
            "Requirement already satisfied: contourpy>=1.0.1 in /usr/local/lib/python3.11/dist-packages (from matplotlib<3.8.0->pycaret) (1.3.1)\n",
            "Requirement already satisfied: cycler>=0.10 in /usr/local/lib/python3.11/dist-packages (from matplotlib<3.8.0->pycaret) (0.12.1)\n",
            "Requirement already satisfied: fonttools>=4.22.0 in /usr/local/lib/python3.11/dist-packages (from matplotlib<3.8.0->pycaret) (4.56.0)\n",
            "Requirement already satisfied: kiwisolver>=1.0.1 in /usr/local/lib/python3.11/dist-packages (from matplotlib<3.8.0->pycaret) (1.4.8)\n",
            "Requirement already satisfied: pillow>=6.2.0 in /usr/local/lib/python3.11/dist-packages (from matplotlib<3.8.0->pycaret) (11.1.0)\n",
            "Requirement already satisfied: pyparsing>=2.3.1 in /usr/local/lib/python3.11/dist-packages (from matplotlib<3.8.0->pycaret) (3.2.1)\n",
            "Requirement already satisfied: python-dateutil>=2.7 in /usr/local/lib/python3.11/dist-packages (from matplotlib<3.8.0->pycaret) (2.8.2)\n",
            "Requirement already satisfied: fastjsonschema>=2.15 in /usr/local/lib/python3.11/dist-packages (from nbformat>=4.2.0->pycaret) (2.21.1)\n",
            "Requirement already satisfied: jsonschema>=2.6 in /usr/local/lib/python3.11/dist-packages (from nbformat>=4.2.0->pycaret) (4.23.0)\n",
            "Requirement already satisfied: jupyter-core!=5.0.*,>=4.12 in /usr/local/lib/python3.11/dist-packages (from nbformat>=4.2.0->pycaret) (5.7.2)\n",
            "Requirement already satisfied: llvmlite<0.45,>=0.44.0dev0 in /usr/local/lib/python3.11/dist-packages (from numba>=0.55.0->pycaret) (0.44.0)\n",
            "Requirement already satisfied: pytz>=2020.1 in /usr/local/lib/python3.11/dist-packages (from pandas<2.2.0->pycaret) (2025.1)\n",
            "Requirement already satisfied: tzdata>=2022.1 in /usr/local/lib/python3.11/dist-packages (from pandas<2.2.0->pycaret) (2025.1)\n",
            "Requirement already satisfied: tenacity>=6.2.0 in /usr/local/lib/python3.11/dist-packages (from plotly>=5.14.0->pycaret) (9.0.0)\n",
            "Collecting dash>=2.9.0 (from plotly-resampler>=0.8.3.1->pycaret)\n",
            "  Downloading dash-2.18.2-py3-none-any.whl.metadata (10 kB)\n",
            "Requirement already satisfied: orjson<4.0.0,>=3.8.0 in /usr/local/lib/python3.11/dist-packages (from plotly-resampler>=0.8.3.1->pycaret) (3.10.15)\n",
            "Collecting tsdownsample>=0.1.3 (from plotly-resampler>=0.8.3.1->pycaret)\n",
            "  Downloading tsdownsample-0.1.4.1-cp311-cp311-manylinux_2_17_x86_64.manylinux2014_x86_64.whl.metadata (8.0 kB)\n",
            "Requirement already satisfied: Cython!=0.29.18,!=0.29.31,>=0.29 in /usr/local/lib/python3.11/dist-packages (from pmdarima>=2.0.4->pycaret) (3.0.12)\n",
            "Requirement already satisfied: urllib3 in /usr/local/lib/python3.11/dist-packages (from pmdarima>=2.0.4->pycaret) (2.3.0)\n",
            "Requirement already satisfied: charset-normalizer<4,>=2 in /usr/local/lib/python3.11/dist-packages (from requests>=2.27.1->pycaret) (3.4.1)\n",
            "Requirement already satisfied: idna<4,>=2.5 in /usr/local/lib/python3.11/dist-packages (from requests>=2.27.1->pycaret) (3.10)\n",
            "Requirement already satisfied: certifi>=2017.4.17 in /usr/local/lib/python3.11/dist-packages (from requests>=2.27.1->pycaret) (2025.1.31)\n",
            "Collecting Flask<3.1,>=1.0.4 (from dash>=2.9.0->plotly-resampler>=0.8.3.1->pycaret)\n",
            "  Downloading flask-3.0.3-py3-none-any.whl.metadata (3.2 kB)\n",
            "Collecting Werkzeug<3.1 (from dash>=2.9.0->plotly-resampler>=0.8.3.1->pycaret)\n",
            "  Downloading werkzeug-3.0.6-py3-none-any.whl.metadata (3.7 kB)\n",
            "Collecting dash-html-components==2.0.0 (from dash>=2.9.0->plotly-resampler>=0.8.3.1->pycaret)\n",
            "  Downloading dash_html_components-2.0.0-py3-none-any.whl.metadata (3.8 kB)\n",
            "Collecting dash-core-components==2.0.0 (from dash>=2.9.0->plotly-resampler>=0.8.3.1->pycaret)\n",
            "  Downloading dash_core_components-2.0.0-py3-none-any.whl.metadata (2.9 kB)\n",
            "Collecting dash-table==5.0.0 (from dash>=2.9.0->plotly-resampler>=0.8.3.1->pycaret)\n",
            "  Downloading dash_table-5.0.0-py3-none-any.whl.metadata (2.4 kB)\n",
            "Requirement already satisfied: typing-extensions>=4.1.1 in /usr/local/lib/python3.11/dist-packages (from dash>=2.9.0->plotly-resampler>=0.8.3.1->pycaret) (4.12.2)\n",
            "Collecting retrying (from dash>=2.9.0->plotly-resampler>=0.8.3.1->pycaret)\n",
            "  Downloading retrying-1.3.4-py3-none-any.whl.metadata (6.9 kB)\n",
            "Requirement already satisfied: nest-asyncio in /usr/local/lib/python3.11/dist-packages (from dash>=2.9.0->plotly-resampler>=0.8.3.1->pycaret) (1.6.0)\n",
            "Requirement already satisfied: debugpy>=1.0 in /usr/local/lib/python3.11/dist-packages (from ipykernel>=4.5.1->ipywidgets>=7.6.5->pycaret) (1.8.0)\n",
            "Requirement already satisfied: jupyter-client>=6.1.12 in /usr/local/lib/python3.11/dist-packages (from ipykernel>=4.5.1->ipywidgets>=7.6.5->pycaret) (6.1.12)\n",
            "Requirement already satisfied: pyzmq>=17 in /usr/local/lib/python3.11/dist-packages (from ipykernel>=4.5.1->ipywidgets>=7.6.5->pycaret) (24.0.1)\n",
            "Requirement already satisfied: tornado>=6.1 in /usr/local/lib/python3.11/dist-packages (from ipykernel>=4.5.1->ipywidgets>=7.6.5->pycaret) (6.4.2)\n",
            "Requirement already satisfied: parso<0.9.0,>=0.8.4 in /usr/local/lib/python3.11/dist-packages (from jedi>=0.16->ipython>=5.5.0->pycaret) (0.8.4)\n",
            "Requirement already satisfied: attrs>=22.2.0 in /usr/local/lib/python3.11/dist-packages (from jsonschema>=2.6->nbformat>=4.2.0->pycaret) (25.1.0)\n",
            "Requirement already satisfied: jsonschema-specifications>=2023.03.6 in /usr/local/lib/python3.11/dist-packages (from jsonschema>=2.6->nbformat>=4.2.0->pycaret) (2024.10.1)\n",
            "Requirement already satisfied: referencing>=0.28.4 in /usr/local/lib/python3.11/dist-packages (from jsonschema>=2.6->nbformat>=4.2.0->pycaret) (0.36.2)\n",
            "Requirement already satisfied: rpds-py>=0.7.1 in /usr/local/lib/python3.11/dist-packages (from jsonschema>=2.6->nbformat>=4.2.0->pycaret) (0.23.0)\n",
            "Requirement already satisfied: platformdirs>=2.5 in /usr/local/lib/python3.11/dist-packages (from jupyter-core!=5.0.*,>=4.12->nbformat>=4.2.0->pycaret) (4.3.6)\n",
            "Requirement already satisfied: ptyprocess>=0.5 in /usr/local/lib/python3.11/dist-packages (from pexpect>4.3->ipython>=5.5.0->pycaret) (0.7.0)\n",
            "Requirement already satisfied: wcwidth in /usr/local/lib/python3.11/dist-packages (from prompt-toolkit!=3.0.0,!=3.0.1,<3.1.0,>=2.0.0->ipython>=5.5.0->pycaret) (0.2.13)\n",
            "Requirement already satisfied: six>=1.5 in /usr/local/lib/python3.11/dist-packages (from python-dateutil>=2.7->matplotlib<3.8.0->pycaret) (1.17.0)\n",
            "Requirement already satisfied: notebook>=4.4.1 in /usr/local/lib/python3.11/dist-packages (from widgetsnbextension~=3.6.0->ipywidgets>=7.6.5->pycaret) (6.5.5)\n",
            "Requirement already satisfied: itsdangerous>=2.1.2 in /usr/local/lib/python3.11/dist-packages (from Flask<3.1,>=1.0.4->dash>=2.9.0->plotly-resampler>=0.8.3.1->pycaret) (2.2.0)\n",
            "Requirement already satisfied: click>=8.1.3 in /usr/local/lib/python3.11/dist-packages (from Flask<3.1,>=1.0.4->dash>=2.9.0->plotly-resampler>=0.8.3.1->pycaret) (8.1.8)\n",
            "Requirement already satisfied: blinker>=1.6.2 in /usr/local/lib/python3.11/dist-packages (from Flask<3.1,>=1.0.4->dash>=2.9.0->plotly-resampler>=0.8.3.1->pycaret) (1.9.0)\n",
            "Requirement already satisfied: argon2-cffi in /usr/local/lib/python3.11/dist-packages (from notebook>=4.4.1->widgetsnbextension~=3.6.0->ipywidgets>=7.6.5->pycaret) (23.1.0)\n",
            "Requirement already satisfied: nbconvert>=5 in /usr/local/lib/python3.11/dist-packages (from notebook>=4.4.1->widgetsnbextension~=3.6.0->ipywidgets>=7.6.5->pycaret) (7.16.6)\n",
            "Requirement already satisfied: Send2Trash>=1.8.0 in /usr/local/lib/python3.11/dist-packages (from notebook>=4.4.1->widgetsnbextension~=3.6.0->ipywidgets>=7.6.5->pycaret) (1.8.3)\n",
            "Requirement already satisfied: terminado>=0.8.3 in /usr/local/lib/python3.11/dist-packages (from notebook>=4.4.1->widgetsnbextension~=3.6.0->ipywidgets>=7.6.5->pycaret) (0.18.1)\n",
            "Requirement already satisfied: prometheus-client in /usr/local/lib/python3.11/dist-packages (from notebook>=4.4.1->widgetsnbextension~=3.6.0->ipywidgets>=7.6.5->pycaret) (0.21.1)\n",
            "Requirement already satisfied: nbclassic>=0.4.7 in /usr/local/lib/python3.11/dist-packages (from notebook>=4.4.1->widgetsnbextension~=3.6.0->ipywidgets>=7.6.5->pycaret) (1.2.0)\n",
            "Requirement already satisfied: notebook-shim>=0.2.3 in /usr/local/lib/python3.11/dist-packages (from nbclassic>=0.4.7->notebook>=4.4.1->widgetsnbextension~=3.6.0->ipywidgets>=7.6.5->pycaret) (0.2.4)\n",
            "Requirement already satisfied: beautifulsoup4 in /usr/local/lib/python3.11/dist-packages (from nbconvert>=5->notebook>=4.4.1->widgetsnbextension~=3.6.0->ipywidgets>=7.6.5->pycaret) (4.13.3)\n",
            "Requirement already satisfied: bleach!=5.0.0 in /usr/local/lib/python3.11/dist-packages (from bleach[css]!=5.0.0->nbconvert>=5->notebook>=4.4.1->widgetsnbextension~=3.6.0->ipywidgets>=7.6.5->pycaret) (6.2.0)\n",
            "Requirement already satisfied: defusedxml in /usr/local/lib/python3.11/dist-packages (from nbconvert>=5->notebook>=4.4.1->widgetsnbextension~=3.6.0->ipywidgets>=7.6.5->pycaret) (0.7.1)\n",
            "Requirement already satisfied: jupyterlab-pygments in /usr/local/lib/python3.11/dist-packages (from nbconvert>=5->notebook>=4.4.1->widgetsnbextension~=3.6.0->ipywidgets>=7.6.5->pycaret) (0.3.0)\n",
            "Requirement already satisfied: mistune<4,>=2.0.3 in /usr/local/lib/python3.11/dist-packages (from nbconvert>=5->notebook>=4.4.1->widgetsnbextension~=3.6.0->ipywidgets>=7.6.5->pycaret) (3.1.2)\n",
            "Requirement already satisfied: nbclient>=0.5.0 in /usr/local/lib/python3.11/dist-packages (from nbconvert>=5->notebook>=4.4.1->widgetsnbextension~=3.6.0->ipywidgets>=7.6.5->pycaret) (0.10.2)\n",
            "Requirement already satisfied: pandocfilters>=1.4.1 in /usr/local/lib/python3.11/dist-packages (from nbconvert>=5->notebook>=4.4.1->widgetsnbextension~=3.6.0->ipywidgets>=7.6.5->pycaret) (1.5.1)\n",
            "Requirement already satisfied: argon2-cffi-bindings in /usr/local/lib/python3.11/dist-packages (from argon2-cffi->notebook>=4.4.1->widgetsnbextension~=3.6.0->ipywidgets>=7.6.5->pycaret) (21.2.0)\n",
            "Requirement already satisfied: webencodings in /usr/local/lib/python3.11/dist-packages (from bleach!=5.0.0->bleach[css]!=5.0.0->nbconvert>=5->notebook>=4.4.1->widgetsnbextension~=3.6.0->ipywidgets>=7.6.5->pycaret) (0.5.1)\n",
            "Requirement already satisfied: tinycss2<1.5,>=1.1.0 in /usr/local/lib/python3.11/dist-packages (from bleach[css]!=5.0.0->nbconvert>=5->notebook>=4.4.1->widgetsnbextension~=3.6.0->ipywidgets>=7.6.5->pycaret) (1.4.0)\n",
            "Requirement already satisfied: jupyter-server<3,>=1.8 in /usr/local/lib/python3.11/dist-packages (from notebook-shim>=0.2.3->nbclassic>=0.4.7->notebook>=4.4.1->widgetsnbextension~=3.6.0->ipywidgets>=7.6.5->pycaret) (1.24.0)\n",
            "Requirement already satisfied: cffi>=1.0.1 in /usr/local/lib/python3.11/dist-packages (from argon2-cffi-bindings->argon2-cffi->notebook>=4.4.1->widgetsnbextension~=3.6.0->ipywidgets>=7.6.5->pycaret) (1.17.1)\n",
            "Requirement already satisfied: soupsieve>1.2 in /usr/local/lib/python3.11/dist-packages (from beautifulsoup4->nbconvert>=5->notebook>=4.4.1->widgetsnbextension~=3.6.0->ipywidgets>=7.6.5->pycaret) (2.6)\n",
            "Requirement already satisfied: pycparser in /usr/local/lib/python3.11/dist-packages (from cffi>=1.0.1->argon2-cffi-bindings->argon2-cffi->notebook>=4.4.1->widgetsnbextension~=3.6.0->ipywidgets>=7.6.5->pycaret) (2.22)\n",
            "Requirement already satisfied: anyio<4,>=3.1.0 in /usr/local/lib/python3.11/dist-packages (from jupyter-server<3,>=1.8->notebook-shim>=0.2.3->nbclassic>=0.4.7->notebook>=4.4.1->widgetsnbextension~=3.6.0->ipywidgets>=7.6.5->pycaret) (3.7.1)\n",
            "Requirement already satisfied: websocket-client in /usr/local/lib/python3.11/dist-packages (from jupyter-server<3,>=1.8->notebook-shim>=0.2.3->nbclassic>=0.4.7->notebook>=4.4.1->widgetsnbextension~=3.6.0->ipywidgets>=7.6.5->pycaret) (1.8.0)\n",
            "Requirement already satisfied: sniffio>=1.1 in /usr/local/lib/python3.11/dist-packages (from anyio<4,>=3.1.0->jupyter-server<3,>=1.8->notebook-shim>=0.2.3->nbclassic>=0.4.7->notebook>=4.4.1->widgetsnbextension~=3.6.0->ipywidgets>=7.6.5->pycaret) (1.3.1)\n",
            "Downloading pycaret-3.3.2-py3-none-any.whl (486 kB)\n",
            "\u001b[2K   \u001b[90m━━━━━━━━━━━━━━━━━━━━━━━━━━━━━━━━━━━━━━━━\u001b[0m \u001b[32m486.1/486.1 kB\u001b[0m \u001b[31m32.6 MB/s\u001b[0m eta \u001b[36m0:00:00\u001b[0m\n",
            "\u001b[?25hDownloading schemdraw-0.15-py3-none-any.whl (106 kB)\n",
            "\u001b[2K   \u001b[90m━━━━━━━━━━━━━━━━━━━━━━━━━━━━━━━━━━━━━━━━\u001b[0m \u001b[32m106.8/106.8 kB\u001b[0m \u001b[31m10.2 MB/s\u001b[0m eta \u001b[36m0:00:00\u001b[0m\n",
            "\u001b[?25hDownloading sktime-0.26.0-py3-none-any.whl (21.8 MB)\n",
            "\u001b[2K   \u001b[90m━━━━━━━━━━━━━━━━━━━━━━━━━━━━━━━━━━━━━━━━\u001b[0m \u001b[32m21.8/21.8 MB\u001b[0m \u001b[31m76.1 MB/s\u001b[0m eta \u001b[36m0:00:00\u001b[0m\n",
            "\u001b[?25hDownloading category_encoders-2.7.0-py3-none-any.whl (85 kB)\n",
            "\u001b[2K   \u001b[90m━━━━━━━━━━━━━━━━━━━━━━━━━━━━━━━━━━━━━━━━\u001b[0m \u001b[32m85.4/85.4 kB\u001b[0m \u001b[31m6.6 MB/s\u001b[0m eta \u001b[36m0:00:00\u001b[0m\n",
            "\u001b[?25hDownloading deprecation-2.1.0-py2.py3-none-any.whl (11 kB)\n",
            "Downloading joblib-1.3.2-py3-none-any.whl (302 kB)\n",
            "\u001b[2K   \u001b[90m━━━━━━━━━━━━━━━━━━━━━━━━━━━━━━━━━━━━━━━━\u001b[0m \u001b[32m302.2/302.2 kB\u001b[0m \u001b[31m24.6 MB/s\u001b[0m eta \u001b[36m0:00:00\u001b[0m\n",
            "\u001b[?25hDownloading kaleido-0.2.1-py2.py3-none-manylinux1_x86_64.whl (79.9 MB)\n",
            "\u001b[2K   \u001b[90m━━━━━━━━━━━━━━━━━━━━━━━━━━━━━━━━━━━━━━━━\u001b[0m \u001b[32m79.9/79.9 MB\u001b[0m \u001b[31m9.1 MB/s\u001b[0m eta \u001b[36m0:00:00\u001b[0m\n",
            "\u001b[?25hDownloading matplotlib-3.7.5-cp311-cp311-manylinux_2_17_x86_64.manylinux2014_x86_64.whl (11.6 MB)\n",
            "\u001b[2K   \u001b[90m━━━━━━━━━━━━━━━━━━━━━━━━━━━━━━━━━━━━━━━━\u001b[0m \u001b[32m11.6/11.6 MB\u001b[0m \u001b[31m41.8 MB/s\u001b[0m eta \u001b[36m0:00:00\u001b[0m\n",
            "\u001b[?25hDownloading pandas-2.1.4-cp311-cp311-manylinux_2_17_x86_64.manylinux2014_x86_64.whl (12.2 MB)\n",
            "\u001b[2K   \u001b[90m━━━━━━━━━━━━━━━━━━━━━━━━━━━━━━━━━━━━━━━━\u001b[0m \u001b[32m12.2/12.2 MB\u001b[0m \u001b[31m117.0 MB/s\u001b[0m eta \u001b[36m0:00:00\u001b[0m\n",
            "\u001b[?25hDownloading plotly_resampler-0.10.0-py3-none-any.whl (80 kB)\n",
            "\u001b[2K   \u001b[90m━━━━━━━━━━━━━━━━━━━━━━━━━━━━━━━━━━━━━━━━\u001b[0m \u001b[32m80.7/80.7 kB\u001b[0m \u001b[31m6.3 MB/s\u001b[0m eta \u001b[36m0:00:00\u001b[0m\n",
            "\u001b[?25hDownloading pmdarima-2.0.4-cp311-cp311-manylinux_2_17_x86_64.manylinux2014_x86_64.manylinux_2_28_x86_64.whl (2.2 MB)\n",
            "\u001b[2K   \u001b[90m━━━━━━━━━━━━━━━━━━━━━━━━━━━━━━━━━━━━━━━━\u001b[0m \u001b[32m2.2/2.2 MB\u001b[0m \u001b[31m75.3 MB/s\u001b[0m eta \u001b[36m0:00:00\u001b[0m\n",
            "\u001b[?25hDownloading scikit_learn-1.4.2-cp311-cp311-manylinux_2_17_x86_64.manylinux2014_x86_64.whl (12.1 MB)\n",
            "\u001b[2K   \u001b[90m━━━━━━━━━━━━━━━━━━━━━━━━━━━━━━━━━━━━━━━━\u001b[0m \u001b[32m12.1/12.1 MB\u001b[0m \u001b[31m101.1 MB/s\u001b[0m eta \u001b[36m0:00:00\u001b[0m\n",
            "\u001b[?25hDownloading scikit_plot-0.3.7-py3-none-any.whl (33 kB)\n",
            "Downloading scipy-1.11.4-cp311-cp311-manylinux_2_17_x86_64.manylinux2014_x86_64.whl (36.4 MB)\n",
            "\u001b[2K   \u001b[90m━━━━━━━━━━━━━━━━━━━━━━━━━━━━━━━━━━━━━━━━\u001b[0m \u001b[32m36.4/36.4 MB\u001b[0m \u001b[31m12.9 MB/s\u001b[0m eta \u001b[36m0:00:00\u001b[0m\n",
            "\u001b[?25hDownloading tbats-1.1.3-py3-none-any.whl (44 kB)\n",
            "\u001b[2K   \u001b[90m━━━━━━━━━━━━━━━━━━━━━━━━━━━━━━━━━━━━━━━━\u001b[0m \u001b[32m44.0/44.0 kB\u001b[0m \u001b[31m1.9 MB/s\u001b[0m eta \u001b[36m0:00:00\u001b[0m\n",
            "\u001b[?25hDownloading wurlitzer-3.1.1-py3-none-any.whl (8.6 kB)\n",
            "Downloading xxhash-3.5.0-cp311-cp311-manylinux_2_17_x86_64.manylinux2014_x86_64.whl (194 kB)\n",
            "\u001b[2K   \u001b[90m━━━━━━━━━━━━━━━━━━━━━━━━━━━━━━━━━━━━━━━━\u001b[0m \u001b[32m194.8/194.8 kB\u001b[0m \u001b[31m9.5 MB/s\u001b[0m eta \u001b[36m0:00:00\u001b[0m\n",
            "\u001b[?25hDownloading dash-2.18.2-py3-none-any.whl (7.8 MB)\n",
            "\u001b[2K   \u001b[90m━━━━━━━━━━━━━━━━━━━━━━━━━━━━━━━━━━━━━━━━\u001b[0m \u001b[32m7.8/7.8 MB\u001b[0m \u001b[31m39.0 MB/s\u001b[0m eta \u001b[36m0:00:00\u001b[0m\n",
            "\u001b[?25hDownloading dash_core_components-2.0.0-py3-none-any.whl (3.8 kB)\n",
            "Downloading dash_html_components-2.0.0-py3-none-any.whl (4.1 kB)\n",
            "Downloading dash_table-5.0.0-py3-none-any.whl (3.9 kB)\n",
            "Downloading jedi-0.19.2-py2.py3-none-any.whl (1.6 MB)\n",
            "\u001b[2K   \u001b[90m━━━━━━━━━━━━━━━━━━━━━━━━━━━━━━━━━━━━━━━━\u001b[0m \u001b[32m1.6/1.6 MB\u001b[0m \u001b[31m36.5 MB/s\u001b[0m eta \u001b[36m0:00:00\u001b[0m\n",
            "\u001b[?25hDownloading scikit_base-0.7.8-py3-none-any.whl (130 kB)\n",
            "\u001b[2K   \u001b[90m━━━━━━━━━━━━━━━━━━━━━━━━━━━━━━━━━━━━━━━━\u001b[0m \u001b[32m130.1/130.1 kB\u001b[0m \u001b[31m11.9 MB/s\u001b[0m eta \u001b[36m0:00:00\u001b[0m\n",
            "\u001b[?25hDownloading tsdownsample-0.1.4.1-cp311-cp311-manylinux_2_17_x86_64.manylinux2014_x86_64.whl (1.3 MB)\n",
            "\u001b[2K   \u001b[90m━━━━━━━━━━━━━━━━━━━━━━━━━━━━━━━━━━━━━━━━\u001b[0m \u001b[32m1.3/1.3 MB\u001b[0m \u001b[31m41.8 MB/s\u001b[0m eta \u001b[36m0:00:00\u001b[0m\n",
            "\u001b[?25hDownloading flask-3.0.3-py3-none-any.whl (101 kB)\n",
            "\u001b[2K   \u001b[90m━━━━━━━━━━━━━━━━━━━━━━━━━━━━━━━━━━━━━━━━\u001b[0m \u001b[32m101.7/101.7 kB\u001b[0m \u001b[31m3.0 MB/s\u001b[0m eta \u001b[36m0:00:00\u001b[0m\n",
            "\u001b[?25hDownloading werkzeug-3.0.6-py3-none-any.whl (227 kB)\n",
            "\u001b[2K   \u001b[90m━━━━━━━━━━━━━━━━━━━━━━━━━━━━━━━━━━━━━━━━\u001b[0m \u001b[32m228.0/228.0 kB\u001b[0m \u001b[31m14.9 MB/s\u001b[0m eta \u001b[36m0:00:00\u001b[0m\n",
            "\u001b[?25hDownloading retrying-1.3.4-py3-none-any.whl (11 kB)\n",
            "Building wheels for collected packages: pyod\n",
            "  Building wheel for pyod (setup.py) ... \u001b[?25l\u001b[?25hdone\n",
            "  Created wheel for pyod: filename=pyod-2.0.3-py3-none-any.whl size=200466 sha256=be6967abd6726a014872bbf93ca5eaf230da36d2a6d431e8b47344d67de2ecba\n",
            "  Stored in directory: /root/.cache/pip/wheels/2d/60/5b/f74eccd2c9c892a2c298202ca510f10995f9940647fcc2d97f\n",
            "Successfully built pyod\n",
            "Installing collected packages: kaleido, dash-table, dash-html-components, dash-core-components, xxhash, wurlitzer, Werkzeug, tsdownsample, scipy, scikit-base, schemdraw, retrying, joblib, jedi, deprecation, scikit-learn, pandas, matplotlib, Flask, sktime, scikit-plot, pyod, dash, pmdarima, plotly-resampler, category-encoders, tbats, pycaret\n",
            "  Attempting uninstall: Werkzeug\n",
            "    Found existing installation: Werkzeug 3.1.3\n",
            "    Uninstalling Werkzeug-3.1.3:\n",
            "      Successfully uninstalled Werkzeug-3.1.3\n",
            "  Attempting uninstall: scipy\n",
            "    Found existing installation: scipy 1.13.1\n",
            "    Uninstalling scipy-1.13.1:\n",
            "      Successfully uninstalled scipy-1.13.1\n",
            "  Attempting uninstall: joblib\n",
            "    Found existing installation: joblib 1.4.2\n",
            "    Uninstalling joblib-1.4.2:\n",
            "      Successfully uninstalled joblib-1.4.2\n",
            "  Attempting uninstall: scikit-learn\n",
            "    Found existing installation: scikit-learn 1.6.1\n",
            "    Uninstalling scikit-learn-1.6.1:\n",
            "      Successfully uninstalled scikit-learn-1.6.1\n",
            "  Attempting uninstall: pandas\n",
            "    Found existing installation: pandas 2.2.2\n",
            "    Uninstalling pandas-2.2.2:\n",
            "      Successfully uninstalled pandas-2.2.2\n",
            "  Attempting uninstall: matplotlib\n",
            "    Found existing installation: matplotlib 3.10.0\n",
            "    Uninstalling matplotlib-3.10.0:\n",
            "      Successfully uninstalled matplotlib-3.10.0\n",
            "  Attempting uninstall: Flask\n",
            "    Found existing installation: Flask 3.1.0\n",
            "    Uninstalling Flask-3.1.0:\n",
            "      Successfully uninstalled Flask-3.1.0\n",
            "\u001b[31mERROR: pip's dependency resolver does not currently take into account all the packages that are installed. This behaviour is the source of the following dependency conflicts.\n",
            "google-colab 1.0.0 requires pandas==2.2.2, but you have pandas 2.1.4 which is incompatible.\n",
            "plotnine 0.14.5 requires matplotlib>=3.8.0, but you have matplotlib 3.7.5 which is incompatible.\n",
            "plotnine 0.14.5 requires pandas>=2.2.0, but you have pandas 2.1.4 which is incompatible.\n",
            "mizani 0.13.1 requires pandas>=2.2.0, but you have pandas 2.1.4 which is incompatible.\u001b[0m\u001b[31m\n",
            "\u001b[0mSuccessfully installed Flask-3.0.3 Werkzeug-3.0.6 category-encoders-2.7.0 dash-2.18.2 dash-core-components-2.0.0 dash-html-components-2.0.0 dash-table-5.0.0 deprecation-2.1.0 jedi-0.19.2 joblib-1.3.2 kaleido-0.2.1 matplotlib-3.7.5 pandas-2.1.4 plotly-resampler-0.10.0 pmdarima-2.0.4 pycaret-3.3.2 pyod-2.0.3 retrying-1.3.4 schemdraw-0.15 scikit-base-0.7.8 scikit-learn-1.4.2 scikit-plot-0.3.7 scipy-1.11.4 sktime-0.26.0 tbats-1.1.3 tsdownsample-0.1.4.1 wurlitzer-3.1.1 xxhash-3.5.0\n"
          ]
        },
        {
          "output_type": "display_data",
          "data": {
            "application/vnd.colab-display-data+json": {
              "pip_warning": {
                "packages": [
                  "matplotlib",
                  "mpl_toolkits"
                ]
              },
              "id": "4bdda8b5baff482394991f0c688cb630"
            }
          },
          "metadata": {}
        }
      ]
    },
    {
      "cell_type": "code",
      "execution_count": null,
      "metadata": {
        "id": "HIFgZcfWlC8F"
      },
      "outputs": [],
      "source": [
        "import numpy as np\n",
        "import pandas as pd\n",
        "import pycaret\n",
        "import transformers\n",
        "from transformers import AutoModel, BertTokenizerFast\n",
        "import matplotlib.pyplot as plt\n",
        "from sklearn.metrics import ConfusionMatrixDisplay\n",
        "from sklearn.model_selection import train_test_split\n",
        "from sklearn.metrics import classification_report\n",
        "import torch\n",
        "import torch.nn as nn\n",
        "# specify GPU\n",
        "device = torch.device(\"cuda\")"
      ]
    },
    {
      "cell_type": "code",
      "source": [
        "# Mount Google Drive - applicable, if working on Google Drive\n",
        "from google.colab import drive\n",
        "drive.mount('/content/drive')"
      ],
      "metadata": {
        "id": "Pfi1QUkuEss5",
        "colab": {
          "base_uri": "https://localhost:8080/"
        },
        "outputId": "d0f9e807-4340-4b95-d943-637f9304c6ae"
      },
      "execution_count": null,
      "outputs": [
        {
          "output_type": "stream",
          "name": "stdout",
          "text": [
            "Drive already mounted at /content/drive; to attempt to forcibly remount, call drive.mount(\"/content/drive\", force_remount=True).\n"
          ]
        }
      ]
    },
    {
      "cell_type": "code",
      "source": [
        "# Set Working Directory - if working on Google Drive\n",
        "%cd /content/drive/MyDrive/1_LiveProjects/Project11_FakeNewsDetection\n",
        "\n",
        "# # Set Working Directory - if working on Local Machine\n",
        "# import os\n",
        "# os.chdir('/Users//replace_me')"
      ],
      "metadata": {
        "id": "-xkkoUVsEu_w",
        "colab": {
          "base_uri": "https://localhost:8080/"
        },
        "outputId": "7d2b9b98-b274-4718-a36d-01abd7322ba1"
      },
      "execution_count": null,
      "outputs": [
        {
          "output_type": "stream",
          "name": "stdout",
          "text": [
            "[Errno 2] No such file or directory: '/content/drive/MyDrive/1_LiveProjects/Project11_FakeNewsDetection'\n",
            "/content\n"
          ]
        }
      ]
    },
    {
      "cell_type": "markdown",
      "source": [
        "## Load Dataset"
      ],
      "metadata": {
        "id": "Ar3qNZz0MiGk"
      }
    },
    {
      "cell_type": "code",
      "execution_count": 16,
      "metadata": {
        "id": "9Gkv1hk-mr9Z",
        "colab": {
          "base_uri": "https://localhost:8080/",
          "height": 379
        },
        "outputId": "234bf178-6b41-46c8-b668-1fcad8c30803"
      },
      "outputs": [
        {
          "output_type": "stream",
          "name": "stdout",
          "text": [
            "(44898, 5)\n"
          ]
        },
        {
          "output_type": "execute_result",
          "data": {
            "text/plain": [
              "                                               title  \\\n",
              "0  Effort to replace Trump on ballot would face t...   \n",
              "1   The NRA Endorsed Trump, But They’d Have Ended...   \n",
              "2  HILLARY APPEARS Wearing “Anti-Seizure” Sunglas...   \n",
              "3  LEFTIST BULLY ARTISTS Tell Ivanka Trump: “Get ...   \n",
              "4  LYNCH MOB WINS By Less Than 1%…Why Republicans...   \n",
              "\n",
              "                                                text       subject  \\\n",
              "0  WASHINGTON (Reuters) - Some prominent Republic...  politicsNews   \n",
              "1  Donald Trump gave a speech to the NRA, who the...          News   \n",
              "2  Remember when experts came out after Hillary c...     left-news   \n",
              "3  A growing group of artists is hitting back aga...     left-news   \n",
              "4  They threw everything but the kitchen sink at ...     left-news   \n",
              "\n",
              "               date Target  \n",
              "0  October 9, 2016    True  \n",
              "1      May 20, 2016   Fake  \n",
              "2      May 30, 2017   Fake  \n",
              "3      Dec 22, 2016   Fake  \n",
              "4      Dec 12, 2017   Fake  "
            ],
            "text/html": [
              "\n",
              "  <div id=\"df-3eae07b5-3b25-427e-bb00-f8d5e844fbd6\" class=\"colab-df-container\">\n",
              "    <div>\n",
              "<style scoped>\n",
              "    .dataframe tbody tr th:only-of-type {\n",
              "        vertical-align: middle;\n",
              "    }\n",
              "\n",
              "    .dataframe tbody tr th {\n",
              "        vertical-align: top;\n",
              "    }\n",
              "\n",
              "    .dataframe thead th {\n",
              "        text-align: right;\n",
              "    }\n",
              "</style>\n",
              "<table border=\"1\" class=\"dataframe\">\n",
              "  <thead>\n",
              "    <tr style=\"text-align: right;\">\n",
              "      <th></th>\n",
              "      <th>title</th>\n",
              "      <th>text</th>\n",
              "      <th>subject</th>\n",
              "      <th>date</th>\n",
              "      <th>Target</th>\n",
              "    </tr>\n",
              "  </thead>\n",
              "  <tbody>\n",
              "    <tr>\n",
              "      <th>0</th>\n",
              "      <td>Effort to replace Trump on ballot would face t...</td>\n",
              "      <td>WASHINGTON (Reuters) - Some prominent Republic...</td>\n",
              "      <td>politicsNews</td>\n",
              "      <td>October 9, 2016</td>\n",
              "      <td>True</td>\n",
              "    </tr>\n",
              "    <tr>\n",
              "      <th>1</th>\n",
              "      <td>The NRA Endorsed Trump, But They’d Have Ended...</td>\n",
              "      <td>Donald Trump gave a speech to the NRA, who the...</td>\n",
              "      <td>News</td>\n",
              "      <td>May 20, 2016</td>\n",
              "      <td>Fake</td>\n",
              "    </tr>\n",
              "    <tr>\n",
              "      <th>2</th>\n",
              "      <td>HILLARY APPEARS Wearing “Anti-Seizure” Sunglas...</td>\n",
              "      <td>Remember when experts came out after Hillary c...</td>\n",
              "      <td>left-news</td>\n",
              "      <td>May 30, 2017</td>\n",
              "      <td>Fake</td>\n",
              "    </tr>\n",
              "    <tr>\n",
              "      <th>3</th>\n",
              "      <td>LEFTIST BULLY ARTISTS Tell Ivanka Trump: “Get ...</td>\n",
              "      <td>A growing group of artists is hitting back aga...</td>\n",
              "      <td>left-news</td>\n",
              "      <td>Dec 22, 2016</td>\n",
              "      <td>Fake</td>\n",
              "    </tr>\n",
              "    <tr>\n",
              "      <th>4</th>\n",
              "      <td>LYNCH MOB WINS By Less Than 1%…Why Republicans...</td>\n",
              "      <td>They threw everything but the kitchen sink at ...</td>\n",
              "      <td>left-news</td>\n",
              "      <td>Dec 12, 2017</td>\n",
              "      <td>Fake</td>\n",
              "    </tr>\n",
              "  </tbody>\n",
              "</table>\n",
              "</div>\n",
              "    <div class=\"colab-df-buttons\">\n",
              "\n",
              "  <div class=\"colab-df-container\">\n",
              "    <button class=\"colab-df-convert\" onclick=\"convertToInteractive('df-3eae07b5-3b25-427e-bb00-f8d5e844fbd6')\"\n",
              "            title=\"Convert this dataframe to an interactive table.\"\n",
              "            style=\"display:none;\">\n",
              "\n",
              "  <svg xmlns=\"http://www.w3.org/2000/svg\" height=\"24px\" viewBox=\"0 -960 960 960\">\n",
              "    <path d=\"M120-120v-720h720v720H120Zm60-500h600v-160H180v160Zm220 220h160v-160H400v160Zm0 220h160v-160H400v160ZM180-400h160v-160H180v160Zm440 0h160v-160H620v160ZM180-180h160v-160H180v160Zm440 0h160v-160H620v160Z\"/>\n",
              "  </svg>\n",
              "    </button>\n",
              "\n",
              "  <style>\n",
              "    .colab-df-container {\n",
              "      display:flex;\n",
              "      gap: 12px;\n",
              "    }\n",
              "\n",
              "    .colab-df-convert {\n",
              "      background-color: #E8F0FE;\n",
              "      border: none;\n",
              "      border-radius: 50%;\n",
              "      cursor: pointer;\n",
              "      display: none;\n",
              "      fill: #1967D2;\n",
              "      height: 32px;\n",
              "      padding: 0 0 0 0;\n",
              "      width: 32px;\n",
              "    }\n",
              "\n",
              "    .colab-df-convert:hover {\n",
              "      background-color: #E2EBFA;\n",
              "      box-shadow: 0px 1px 2px rgba(60, 64, 67, 0.3), 0px 1px 3px 1px rgba(60, 64, 67, 0.15);\n",
              "      fill: #174EA6;\n",
              "    }\n",
              "\n",
              "    .colab-df-buttons div {\n",
              "      margin-bottom: 4px;\n",
              "    }\n",
              "\n",
              "    [theme=dark] .colab-df-convert {\n",
              "      background-color: #3B4455;\n",
              "      fill: #D2E3FC;\n",
              "    }\n",
              "\n",
              "    [theme=dark] .colab-df-convert:hover {\n",
              "      background-color: #434B5C;\n",
              "      box-shadow: 0px 1px 3px 1px rgba(0, 0, 0, 0.15);\n",
              "      filter: drop-shadow(0px 1px 2px rgba(0, 0, 0, 0.3));\n",
              "      fill: #FFFFFF;\n",
              "    }\n",
              "  </style>\n",
              "\n",
              "    <script>\n",
              "      const buttonEl =\n",
              "        document.querySelector('#df-3eae07b5-3b25-427e-bb00-f8d5e844fbd6 button.colab-df-convert');\n",
              "      buttonEl.style.display =\n",
              "        google.colab.kernel.accessAllowed ? 'block' : 'none';\n",
              "\n",
              "      async function convertToInteractive(key) {\n",
              "        const element = document.querySelector('#df-3eae07b5-3b25-427e-bb00-f8d5e844fbd6');\n",
              "        const dataTable =\n",
              "          await google.colab.kernel.invokeFunction('convertToInteractive',\n",
              "                                                    [key], {});\n",
              "        if (!dataTable) return;\n",
              "\n",
              "        const docLinkHtml = 'Like what you see? Visit the ' +\n",
              "          '<a target=\"_blank\" href=https://colab.research.google.com/notebooks/data_table.ipynb>data table notebook</a>'\n",
              "          + ' to learn more about interactive tables.';\n",
              "        element.innerHTML = '';\n",
              "        dataTable['output_type'] = 'display_data';\n",
              "        await google.colab.output.renderOutput(dataTable, element);\n",
              "        const docLink = document.createElement('div');\n",
              "        docLink.innerHTML = docLinkHtml;\n",
              "        element.appendChild(docLink);\n",
              "      }\n",
              "    </script>\n",
              "  </div>\n",
              "\n",
              "\n",
              "<div id=\"df-339c608b-7fb7-4847-a61a-88070e0455a4\">\n",
              "  <button class=\"colab-df-quickchart\" onclick=\"quickchart('df-339c608b-7fb7-4847-a61a-88070e0455a4')\"\n",
              "            title=\"Suggest charts\"\n",
              "            style=\"display:none;\">\n",
              "\n",
              "<svg xmlns=\"http://www.w3.org/2000/svg\" height=\"24px\"viewBox=\"0 0 24 24\"\n",
              "     width=\"24px\">\n",
              "    <g>\n",
              "        <path d=\"M19 3H5c-1.1 0-2 .9-2 2v14c0 1.1.9 2 2 2h14c1.1 0 2-.9 2-2V5c0-1.1-.9-2-2-2zM9 17H7v-7h2v7zm4 0h-2V7h2v10zm4 0h-2v-4h2v4z\"/>\n",
              "    </g>\n",
              "</svg>\n",
              "  </button>\n",
              "\n",
              "<style>\n",
              "  .colab-df-quickchart {\n",
              "      --bg-color: #E8F0FE;\n",
              "      --fill-color: #1967D2;\n",
              "      --hover-bg-color: #E2EBFA;\n",
              "      --hover-fill-color: #174EA6;\n",
              "      --disabled-fill-color: #AAA;\n",
              "      --disabled-bg-color: #DDD;\n",
              "  }\n",
              "\n",
              "  [theme=dark] .colab-df-quickchart {\n",
              "      --bg-color: #3B4455;\n",
              "      --fill-color: #D2E3FC;\n",
              "      --hover-bg-color: #434B5C;\n",
              "      --hover-fill-color: #FFFFFF;\n",
              "      --disabled-bg-color: #3B4455;\n",
              "      --disabled-fill-color: #666;\n",
              "  }\n",
              "\n",
              "  .colab-df-quickchart {\n",
              "    background-color: var(--bg-color);\n",
              "    border: none;\n",
              "    border-radius: 50%;\n",
              "    cursor: pointer;\n",
              "    display: none;\n",
              "    fill: var(--fill-color);\n",
              "    height: 32px;\n",
              "    padding: 0;\n",
              "    width: 32px;\n",
              "  }\n",
              "\n",
              "  .colab-df-quickchart:hover {\n",
              "    background-color: var(--hover-bg-color);\n",
              "    box-shadow: 0 1px 2px rgba(60, 64, 67, 0.3), 0 1px 3px 1px rgba(60, 64, 67, 0.15);\n",
              "    fill: var(--button-hover-fill-color);\n",
              "  }\n",
              "\n",
              "  .colab-df-quickchart-complete:disabled,\n",
              "  .colab-df-quickchart-complete:disabled:hover {\n",
              "    background-color: var(--disabled-bg-color);\n",
              "    fill: var(--disabled-fill-color);\n",
              "    box-shadow: none;\n",
              "  }\n",
              "\n",
              "  .colab-df-spinner {\n",
              "    border: 2px solid var(--fill-color);\n",
              "    border-color: transparent;\n",
              "    border-bottom-color: var(--fill-color);\n",
              "    animation:\n",
              "      spin 1s steps(1) infinite;\n",
              "  }\n",
              "\n",
              "  @keyframes spin {\n",
              "    0% {\n",
              "      border-color: transparent;\n",
              "      border-bottom-color: var(--fill-color);\n",
              "      border-left-color: var(--fill-color);\n",
              "    }\n",
              "    20% {\n",
              "      border-color: transparent;\n",
              "      border-left-color: var(--fill-color);\n",
              "      border-top-color: var(--fill-color);\n",
              "    }\n",
              "    30% {\n",
              "      border-color: transparent;\n",
              "      border-left-color: var(--fill-color);\n",
              "      border-top-color: var(--fill-color);\n",
              "      border-right-color: var(--fill-color);\n",
              "    }\n",
              "    40% {\n",
              "      border-color: transparent;\n",
              "      border-right-color: var(--fill-color);\n",
              "      border-top-color: var(--fill-color);\n",
              "    }\n",
              "    60% {\n",
              "      border-color: transparent;\n",
              "      border-right-color: var(--fill-color);\n",
              "    }\n",
              "    80% {\n",
              "      border-color: transparent;\n",
              "      border-right-color: var(--fill-color);\n",
              "      border-bottom-color: var(--fill-color);\n",
              "    }\n",
              "    90% {\n",
              "      border-color: transparent;\n",
              "      border-bottom-color: var(--fill-color);\n",
              "    }\n",
              "  }\n",
              "</style>\n",
              "\n",
              "  <script>\n",
              "    async function quickchart(key) {\n",
              "      const quickchartButtonEl =\n",
              "        document.querySelector('#' + key + ' button');\n",
              "      quickchartButtonEl.disabled = true;  // To prevent multiple clicks.\n",
              "      quickchartButtonEl.classList.add('colab-df-spinner');\n",
              "      try {\n",
              "        const charts = await google.colab.kernel.invokeFunction(\n",
              "            'suggestCharts', [key], {});\n",
              "      } catch (error) {\n",
              "        console.error('Error during call to suggestCharts:', error);\n",
              "      }\n",
              "      quickchartButtonEl.classList.remove('colab-df-spinner');\n",
              "      quickchartButtonEl.classList.add('colab-df-quickchart-complete');\n",
              "    }\n",
              "    (() => {\n",
              "      let quickchartButtonEl =\n",
              "        document.querySelector('#df-339c608b-7fb7-4847-a61a-88070e0455a4 button');\n",
              "      quickchartButtonEl.style.display =\n",
              "        google.colab.kernel.accessAllowed ? 'block' : 'none';\n",
              "    })();\n",
              "  </script>\n",
              "</div>\n",
              "\n",
              "    </div>\n",
              "  </div>\n"
            ],
            "application/vnd.google.colaboratory.intrinsic+json": {
              "type": "dataframe",
              "variable_name": "data",
              "summary": "{\n  \"name\": \"data\",\n  \"rows\": 44898,\n  \"fields\": [\n    {\n      \"column\": \"title\",\n      \"properties\": {\n        \"dtype\": \"string\",\n        \"num_unique_values\": 38729,\n        \"samples\": [\n          \"U.S. top court again faults North Carolina on voting rights\",\n          \"In slap at Trump, some wealthy Republicans campaign for Clinton\",\n          \" Trump\\u2019s Twitter Meltdown During The VP Debate May Be The Whiniest, And Craziest, Yet (TWEETS)\"\n        ],\n        \"semantic_type\": \"\",\n        \"description\": \"\"\n      }\n    },\n    {\n      \"column\": \"text\",\n      \"properties\": {\n        \"dtype\": \"string\",\n        \"num_unique_values\": 38646,\n        \"samples\": [\n          \"Right-ing paranoid whackjob Pat Boone has declared SNL is now venerating Satan, because of a parody skit they ran called  God is a Boob Man.  The skit was making some light-hearted humor at recent attempts to pass anti-LGBT laws in many states. The skit is absolutely hilarious and is a parody of other recent Christian movie trailers for such films as  God s not dead. It isn t clear how Boone saw the skit since he clearly hates SNL and shouldn t be watching it as a result. Perhaps he watches it just to get outraged. He certainly did get upset, though, when he took it upon himself to Godsplain God to the rest of us:God is not thin-skinned. But he does demand reverence. If you have any brains at all you don t pitch yourself against someone who created all things, the God of the Bible. They don t have to apologize to Christians [but] when you come against God and the Holy Spirit who are one and the same, you are bringing upon yourself eternal condemnation. Source: Right Wing WatchBoone went on to not only accuse SNL of being supporters of Satan, but he also outed SNL as a secret Jew-hating enterprise as well: Something can be devilishly funny, but this skit is diabolical. God has only one real enemy   Satan. Satan ridicules faith, and they re taking Satan s side. They re also ridiculing me and the film, telling impressionable young people not to see it because it s ridiculous. Then they throw in that the lawyer is Jewish to make the Christian look even worse, but it s just anti-Semitic. Source: Fox NewsYeah, he sure nailed it. Saturday Night Live is secretly anti-Jew. Just think about how stupid that sounds for a few moments.Then, to prove that he s a couple cans short of a six-pack, Boone said he didn t feel that SNL needed to apologize to Christians  followed a few moments later by him demanding that SNL apologizes to Christians. He literally real-time flip-flopped.Boone even went so far as to suggest that gay people should be offended at SNL for being  portrayed as more bigoted than Christians.  Notice he said  more  bigoted. He literally admitted that Christians like him are bigoted, by using the word  more. As if this wasn t embarrassing enough, the producer of  God s Not Dead 2,  (they actually made 2 of these?) Michael Scott, also complained that SNL is not portraying his movie  accurately  proving that he has absolutely NO CLUE how parody or satire works.Scott also chimed in with another incredibly funny comment, saying that parody like the SNL skit  goes too far  and  can cause divisions  among us.Really? Anti-LGBT/Pro-discrimination law doesn t go too far, and bigoted irrational hate doesn t cause divisions. But, a parody skit on SNL is the great doom of humanity. You really couldn t intentionally make up something that sounds as stupid as the things fundie Christians say naturally, these days.Featured image via Fox News screen capture\",\n          \"BATTAMBANG, Cambodia (Reuters) - Sin Rozeth s attempts to show the benefits of grassroots democracy to some of the poorest people in the Cambodian city of Battambang are in peril. The 30-year-old daughter of a vegetable seller became the head of Ochar commune, the equivalent of local council leader, in elections in June. Her victory was part of an  all politics is local  strategy that helped the opposition Cambodia National Rescue Party (CNRP) win 40 percent of the 1,646 local seats at stake. Previously it had just 2 percent. But the authoritarian government of former Khmer Rouge commander Hun Sen is now cracking down at every level on a party that had shown it might beat him at elections due next July. The longest-serving prime minister in the world accuses the CNRP of doing the bidding of the United States. Hun Sen s government has arrested CNRP leader Kem Sokha on treason charges and taken steps to have the party dissolved altogether. Once vocal rights groups have also been silenced and media critical of the ruling party have been repressed.  For Sin Rozeth, it has meant warning letters from city and provincial authorities threatening to remove her.  Now voters are showing signs of discouragement in Ochar, a community of 18,000 where Battambang spills into rice fields and dwellings patched from metal sheet and wood sit alongside low-rise cinderblock homes. Few new voters in the commune have registered ahead of next year s national elections, she said. It is the same picture across Cambodia. The electoral commission estimated 1.6 million people needed to register - either because they had come of age or had been missed before   and barely a quarter have done so ahead of a Nov. 9 deadline.     At stake is the shaky democracy that Western donors spent billions of dollars trying to build after the genocide of the Khmer Rouge killed an estimated 1.7 million people - around a quarter of the population - between 1975 and 1979. Hun Sen s dominance dates from 1985, when he became prime minister under the patronage of occupying Vietnamese forces he had helped to drive out his former Khmer Rouge comrades. A 1991 peace deal ended civil war and U.N.-supervised elections were held in 1993. Hun Sen lost, but maneuvered to keep power and has used force and the courts to undermine opponents ever since. Sin Rozeth, who took up politics after dropping out of university for lack of money, said she made some money through helping others with real estate deals in Battambang province to support herself and her single mother, who raised her. Her commune s official budget had been frozen and she had to pay the office s electricity bill from her own pocket, she said. Donors in Cambodia and abroad also helped. They bought a computer and plastic chairs for the office.  It is very hard to work,  Sin Rozeth said. City and provincial authorities have sent three warning letters. Among the accusations: offering services free of charge, discriminating against ruling party officials, usurping the role of the commune clerk and holding meetings on Saturdays. The CNRP s commune chiefs elsewhere complain, too. Va Sam, of Kok Khleang commune in Phnom Penh, said the interior ministry had taken over issuing documents such as land titles and birth certificates, previously a big source of funds for the commune. Discrimination against CNRP commune chiefs was widespread, said Mu Sochua, a deputy of Kem Sokha who fled into exile fearing arrest.  Other communes face the same targeting if we shine and show too much competence,  she told Reuters. Battambang s provincial governor, Nguon Ratanak, from the government of the ruling Cambodia People s Party (CPP), told Reuters local leaders had to obey the law and denied stopping anyone from developing their communes.  They still want to apply the political policies used during the campaign,  he said.  Commune chiefs must work under the guidelines of the interior ministry, not their political party.          If the CNRP is banned, with a court decision due on Nov. 16, the ruling party would take control of all the communes the CNRP currently leads, based on a change to the election law approved by Cambodia s CPP-dominated parliament last month. The government dismisses criticism that the crackdown ahead of next July s election is turning Cambodia into a one-party state. It says it is only acting against those who have broken Cambodia s laws. Arrested in a midnight raid on Sept. 3, CNRP leader Kem Sokha was accused of plotting with Americans to organize a  color revolution  like those that toppled eastern European strongmen.   We can t let this dangerous revolution happen in Cambodia,  said senior interior ministry official Huy Vannak.  You try to put an American jacket onto a Cambodian and it doesn t fit.   Among those forced out even before Kem Sokha s arrest was the U.S. State Department funded National Democratic Institute (NDI), which spent 25 years on a democracy-building mission that cost an average $2 million a year for the past five years. Sin Rozeth, who was born two years after Hun Sen came to power in 1985, has benefited from its training, as did many members of the ruling party. It included lessons in campaigning - trainers taught her not to attack other parties, she said -  and how to present her own policies.        NDI said that since the recent elections, 138 ruling party members had participated in NDI activities along with 153 members of the opposition.  If this was an effort to try to collude with the opposition then we re guilty of colluding with the ruling party as well,  NDI president Kenneth Wollack told Reuters. Within days of Kem Sokha s arrest, a top Chinese official flew to Phnom Penh with words of support. China has replaced the United States as Cambodia s biggest single donor by far.  In the U.S. Congress, Senators John McCain and Dick Durbin have introduced a resolution that could lead to travel restrictions on Cambodian leaders.  Cambodian officials say they don t fear any penalties.  The Americans can t even control North Korea,  government spokesman Phay Siphan told Reuters.  Sin Rozeth believes the strategy of promising change locally as well as nationally helped explain her party s success. Facebook Live videos show the diminutive and energetic figure getting drains built through muddy streets of Battambang, famed for Cambodia s finest jasmine rice and its French colonial architecture, winning her followers far beyond the city.  I went out to meet people and get to know their problems. I went to funerals to pay condolences even if I didn t know the people,  said Sin Rozeth.    We just have to show what we can deliver day by day,  she said.  We re a new generation and we want to show that administration can be effective and clean and free of charge.  A 2013 video about that strategy was used as evidence against Kem Sokha. In it, he says he has the backing of unnamed Americans for a plan to win power requiring that  before changing the top level, we need to uproot the lower one . For Kem Sokha, it was a legitimate political strategy in a democracy. The government called it treason. \",\n          \"WASHINGTON (Reuters) - It would not be a bad idea for the European Central Bank and other central banks to follow the U.S. Federal Reserve\\u2019s example and change course away from an ultra-accommodative monetary policy, German Finance Minister Wolfgang Schaeuble said. Speaking on the sidelines of International Monetary Fund meetings in Washington, Schaeuble said the ultra-loose monetary policies in place in many areas of the world were not helpful. \\u201cIt is encouraging undue risk-taking, political complacency, capital misallocation and asset price bubbles,\\u201d he added. \\u201cThe Fed has initiated the exit from loose monetary policy. It wouldn\\u2019t be a bad idea, if the European Central bank and others were to start following this example,\\u201d he said. Three ECB policymakers said on Wednesday - days before a tense French presidential election and the ECB\\u2019s own policy meeting - that prospects for the euro zone economy had improved but the time to withdraw support has not yet come. Investors are on tenterhooks before Sunday\\u2019s first round vote in France, where two of the four leading candidates are threatening to leave the European Union and the euro currency. Any turmoil in the bond market after the French vote would push up borrowing costs for countries and companies - undoing some of the stimulus the ECB is providing - and even raise questions about the euro\\u2019s survival. While stressing that the ECB, and not the German government, sets monetary policy for the euro zone, Schaeuble added: \\u201cIt is true that the euro being undervalued, from a German perspective, benefits our exporters.\\u201d German officials have said Schaeuble and his delegation will stress the importance of globalization and free trade for growth at the talks in Washington this week, as well as the need for reforms to increase resilience against future shocks. \"\n        ],\n        \"semantic_type\": \"\",\n        \"description\": \"\"\n      }\n    },\n    {\n      \"column\": \"subject\",\n      \"properties\": {\n        \"dtype\": \"category\",\n        \"num_unique_values\": 8,\n        \"samples\": [\n          \"News\",\n          \"Government News\",\n          \"politicsNews\"\n        ],\n        \"semantic_type\": \"\",\n        \"description\": \"\"\n      }\n    },\n    {\n      \"column\": \"date\",\n      \"properties\": {\n        \"dtype\": \"category\",\n        \"num_unique_values\": 2397,\n        \"samples\": [\n          \"March 31, 2016\",\n          \"December 6, 2017\",\n          \"November 16, 2017\"\n        ],\n        \"semantic_type\": \"\",\n        \"description\": \"\"\n      }\n    },\n    {\n      \"column\": \"Target\",\n      \"properties\": {\n        \"dtype\": \"category\",\n        \"num_unique_values\": 2,\n        \"samples\": [\n          \"Fake\",\n          \"True\"\n        ],\n        \"semantic_type\": \"\",\n        \"description\": \"\"\n      }\n    }\n  ]\n}"
            }
          },
          "metadata": {},
          "execution_count": 16
        }
      ],
      "source": [
        "# Load Dataset\n",
        "true_data = pd.read_csv('/content/drive/MyDrive/Fake news detector/true.csv')\n",
        "fake_data = pd.read_csv('/content/drive/MyDrive/Fake news detector/fake.csv')\n",
        "\n",
        "# Generate labels True/Fake under new Target Column in 'true_data' and 'fake_data'\n",
        "true_data['Target'] = ['True']*len(true_data)\n",
        "fake_data['Target'] = ['Fake']*len(fake_data)\n",
        "\n",
        "# Merge 'true_data' and 'fake_data', by random mixing into a single df called 'data'\n",
        "# data = true_data.append(fake_data).sample(frac=1).reset_index().drop(columns=['index']) # Original line with error\n",
        "data = pd.concat([true_data, fake_data]).sample(frac=1).reset_index().drop(columns=['index']) # Changed line using pd.concat\n",
        "# See how the data looks like\n",
        "print(data.shape)\n",
        "data.head()"
      ]
    },
    {
      "cell_type": "code",
      "source": [
        "# Target column is made of string values True/Fake, let's change it to numbers 0/1 (Fake=1)\n",
        "data['label'] = pd.get_dummies(data.Target)['Fake']"
      ],
      "metadata": {
        "id": "u86aL9M0WA3T"
      },
      "execution_count": 17,
      "outputs": []
    },
    {
      "cell_type": "code",
      "source": [
        "data.head()"
      ],
      "metadata": {
        "colab": {
          "base_uri": "https://localhost:8080/",
          "height": 379
        },
        "id": "yt2qbRKOwz-H",
        "outputId": "8fdce70f-d63f-40d2-bb69-870b0a97e893"
      },
      "execution_count": 18,
      "outputs": [
        {
          "output_type": "execute_result",
          "data": {
            "text/plain": [
              "                                               title  \\\n",
              "0  Effort to replace Trump on ballot would face t...   \n",
              "1   The NRA Endorsed Trump, But They’d Have Ended...   \n",
              "2  HILLARY APPEARS Wearing “Anti-Seizure” Sunglas...   \n",
              "3  LEFTIST BULLY ARTISTS Tell Ivanka Trump: “Get ...   \n",
              "4  LYNCH MOB WINS By Less Than 1%…Why Republicans...   \n",
              "\n",
              "                                                text       subject  \\\n",
              "0  WASHINGTON (Reuters) - Some prominent Republic...  politicsNews   \n",
              "1  Donald Trump gave a speech to the NRA, who the...          News   \n",
              "2  Remember when experts came out after Hillary c...     left-news   \n",
              "3  A growing group of artists is hitting back aga...     left-news   \n",
              "4  They threw everything but the kitchen sink at ...     left-news   \n",
              "\n",
              "               date Target  label  \n",
              "0  October 9, 2016    True  False  \n",
              "1      May 20, 2016   Fake   True  \n",
              "2      May 30, 2017   Fake   True  \n",
              "3      Dec 22, 2016   Fake   True  \n",
              "4      Dec 12, 2017   Fake   True  "
            ],
            "text/html": [
              "\n",
              "  <div id=\"df-89779793-9ca8-4ea7-b0bf-e8c8aa30bc7b\" class=\"colab-df-container\">\n",
              "    <div>\n",
              "<style scoped>\n",
              "    .dataframe tbody tr th:only-of-type {\n",
              "        vertical-align: middle;\n",
              "    }\n",
              "\n",
              "    .dataframe tbody tr th {\n",
              "        vertical-align: top;\n",
              "    }\n",
              "\n",
              "    .dataframe thead th {\n",
              "        text-align: right;\n",
              "    }\n",
              "</style>\n",
              "<table border=\"1\" class=\"dataframe\">\n",
              "  <thead>\n",
              "    <tr style=\"text-align: right;\">\n",
              "      <th></th>\n",
              "      <th>title</th>\n",
              "      <th>text</th>\n",
              "      <th>subject</th>\n",
              "      <th>date</th>\n",
              "      <th>Target</th>\n",
              "      <th>label</th>\n",
              "    </tr>\n",
              "  </thead>\n",
              "  <tbody>\n",
              "    <tr>\n",
              "      <th>0</th>\n",
              "      <td>Effort to replace Trump on ballot would face t...</td>\n",
              "      <td>WASHINGTON (Reuters) - Some prominent Republic...</td>\n",
              "      <td>politicsNews</td>\n",
              "      <td>October 9, 2016</td>\n",
              "      <td>True</td>\n",
              "      <td>False</td>\n",
              "    </tr>\n",
              "    <tr>\n",
              "      <th>1</th>\n",
              "      <td>The NRA Endorsed Trump, But They’d Have Ended...</td>\n",
              "      <td>Donald Trump gave a speech to the NRA, who the...</td>\n",
              "      <td>News</td>\n",
              "      <td>May 20, 2016</td>\n",
              "      <td>Fake</td>\n",
              "      <td>True</td>\n",
              "    </tr>\n",
              "    <tr>\n",
              "      <th>2</th>\n",
              "      <td>HILLARY APPEARS Wearing “Anti-Seizure” Sunglas...</td>\n",
              "      <td>Remember when experts came out after Hillary c...</td>\n",
              "      <td>left-news</td>\n",
              "      <td>May 30, 2017</td>\n",
              "      <td>Fake</td>\n",
              "      <td>True</td>\n",
              "    </tr>\n",
              "    <tr>\n",
              "      <th>3</th>\n",
              "      <td>LEFTIST BULLY ARTISTS Tell Ivanka Trump: “Get ...</td>\n",
              "      <td>A growing group of artists is hitting back aga...</td>\n",
              "      <td>left-news</td>\n",
              "      <td>Dec 22, 2016</td>\n",
              "      <td>Fake</td>\n",
              "      <td>True</td>\n",
              "    </tr>\n",
              "    <tr>\n",
              "      <th>4</th>\n",
              "      <td>LYNCH MOB WINS By Less Than 1%…Why Republicans...</td>\n",
              "      <td>They threw everything but the kitchen sink at ...</td>\n",
              "      <td>left-news</td>\n",
              "      <td>Dec 12, 2017</td>\n",
              "      <td>Fake</td>\n",
              "      <td>True</td>\n",
              "    </tr>\n",
              "  </tbody>\n",
              "</table>\n",
              "</div>\n",
              "    <div class=\"colab-df-buttons\">\n",
              "\n",
              "  <div class=\"colab-df-container\">\n",
              "    <button class=\"colab-df-convert\" onclick=\"convertToInteractive('df-89779793-9ca8-4ea7-b0bf-e8c8aa30bc7b')\"\n",
              "            title=\"Convert this dataframe to an interactive table.\"\n",
              "            style=\"display:none;\">\n",
              "\n",
              "  <svg xmlns=\"http://www.w3.org/2000/svg\" height=\"24px\" viewBox=\"0 -960 960 960\">\n",
              "    <path d=\"M120-120v-720h720v720H120Zm60-500h600v-160H180v160Zm220 220h160v-160H400v160Zm0 220h160v-160H400v160ZM180-400h160v-160H180v160Zm440 0h160v-160H620v160ZM180-180h160v-160H180v160Zm440 0h160v-160H620v160Z\"/>\n",
              "  </svg>\n",
              "    </button>\n",
              "\n",
              "  <style>\n",
              "    .colab-df-container {\n",
              "      display:flex;\n",
              "      gap: 12px;\n",
              "    }\n",
              "\n",
              "    .colab-df-convert {\n",
              "      background-color: #E8F0FE;\n",
              "      border: none;\n",
              "      border-radius: 50%;\n",
              "      cursor: pointer;\n",
              "      display: none;\n",
              "      fill: #1967D2;\n",
              "      height: 32px;\n",
              "      padding: 0 0 0 0;\n",
              "      width: 32px;\n",
              "    }\n",
              "\n",
              "    .colab-df-convert:hover {\n",
              "      background-color: #E2EBFA;\n",
              "      box-shadow: 0px 1px 2px rgba(60, 64, 67, 0.3), 0px 1px 3px 1px rgba(60, 64, 67, 0.15);\n",
              "      fill: #174EA6;\n",
              "    }\n",
              "\n",
              "    .colab-df-buttons div {\n",
              "      margin-bottom: 4px;\n",
              "    }\n",
              "\n",
              "    [theme=dark] .colab-df-convert {\n",
              "      background-color: #3B4455;\n",
              "      fill: #D2E3FC;\n",
              "    }\n",
              "\n",
              "    [theme=dark] .colab-df-convert:hover {\n",
              "      background-color: #434B5C;\n",
              "      box-shadow: 0px 1px 3px 1px rgba(0, 0, 0, 0.15);\n",
              "      filter: drop-shadow(0px 1px 2px rgba(0, 0, 0, 0.3));\n",
              "      fill: #FFFFFF;\n",
              "    }\n",
              "  </style>\n",
              "\n",
              "    <script>\n",
              "      const buttonEl =\n",
              "        document.querySelector('#df-89779793-9ca8-4ea7-b0bf-e8c8aa30bc7b button.colab-df-convert');\n",
              "      buttonEl.style.display =\n",
              "        google.colab.kernel.accessAllowed ? 'block' : 'none';\n",
              "\n",
              "      async function convertToInteractive(key) {\n",
              "        const element = document.querySelector('#df-89779793-9ca8-4ea7-b0bf-e8c8aa30bc7b');\n",
              "        const dataTable =\n",
              "          await google.colab.kernel.invokeFunction('convertToInteractive',\n",
              "                                                    [key], {});\n",
              "        if (!dataTable) return;\n",
              "\n",
              "        const docLinkHtml = 'Like what you see? Visit the ' +\n",
              "          '<a target=\"_blank\" href=https://colab.research.google.com/notebooks/data_table.ipynb>data table notebook</a>'\n",
              "          + ' to learn more about interactive tables.';\n",
              "        element.innerHTML = '';\n",
              "        dataTable['output_type'] = 'display_data';\n",
              "        await google.colab.output.renderOutput(dataTable, element);\n",
              "        const docLink = document.createElement('div');\n",
              "        docLink.innerHTML = docLinkHtml;\n",
              "        element.appendChild(docLink);\n",
              "      }\n",
              "    </script>\n",
              "  </div>\n",
              "\n",
              "\n",
              "<div id=\"df-e4462bc5-402c-47e6-8752-d417c3f3e8a8\">\n",
              "  <button class=\"colab-df-quickchart\" onclick=\"quickchart('df-e4462bc5-402c-47e6-8752-d417c3f3e8a8')\"\n",
              "            title=\"Suggest charts\"\n",
              "            style=\"display:none;\">\n",
              "\n",
              "<svg xmlns=\"http://www.w3.org/2000/svg\" height=\"24px\"viewBox=\"0 0 24 24\"\n",
              "     width=\"24px\">\n",
              "    <g>\n",
              "        <path d=\"M19 3H5c-1.1 0-2 .9-2 2v14c0 1.1.9 2 2 2h14c1.1 0 2-.9 2-2V5c0-1.1-.9-2-2-2zM9 17H7v-7h2v7zm4 0h-2V7h2v10zm4 0h-2v-4h2v4z\"/>\n",
              "    </g>\n",
              "</svg>\n",
              "  </button>\n",
              "\n",
              "<style>\n",
              "  .colab-df-quickchart {\n",
              "      --bg-color: #E8F0FE;\n",
              "      --fill-color: #1967D2;\n",
              "      --hover-bg-color: #E2EBFA;\n",
              "      --hover-fill-color: #174EA6;\n",
              "      --disabled-fill-color: #AAA;\n",
              "      --disabled-bg-color: #DDD;\n",
              "  }\n",
              "\n",
              "  [theme=dark] .colab-df-quickchart {\n",
              "      --bg-color: #3B4455;\n",
              "      --fill-color: #D2E3FC;\n",
              "      --hover-bg-color: #434B5C;\n",
              "      --hover-fill-color: #FFFFFF;\n",
              "      --disabled-bg-color: #3B4455;\n",
              "      --disabled-fill-color: #666;\n",
              "  }\n",
              "\n",
              "  .colab-df-quickchart {\n",
              "    background-color: var(--bg-color);\n",
              "    border: none;\n",
              "    border-radius: 50%;\n",
              "    cursor: pointer;\n",
              "    display: none;\n",
              "    fill: var(--fill-color);\n",
              "    height: 32px;\n",
              "    padding: 0;\n",
              "    width: 32px;\n",
              "  }\n",
              "\n",
              "  .colab-df-quickchart:hover {\n",
              "    background-color: var(--hover-bg-color);\n",
              "    box-shadow: 0 1px 2px rgba(60, 64, 67, 0.3), 0 1px 3px 1px rgba(60, 64, 67, 0.15);\n",
              "    fill: var(--button-hover-fill-color);\n",
              "  }\n",
              "\n",
              "  .colab-df-quickchart-complete:disabled,\n",
              "  .colab-df-quickchart-complete:disabled:hover {\n",
              "    background-color: var(--disabled-bg-color);\n",
              "    fill: var(--disabled-fill-color);\n",
              "    box-shadow: none;\n",
              "  }\n",
              "\n",
              "  .colab-df-spinner {\n",
              "    border: 2px solid var(--fill-color);\n",
              "    border-color: transparent;\n",
              "    border-bottom-color: var(--fill-color);\n",
              "    animation:\n",
              "      spin 1s steps(1) infinite;\n",
              "  }\n",
              "\n",
              "  @keyframes spin {\n",
              "    0% {\n",
              "      border-color: transparent;\n",
              "      border-bottom-color: var(--fill-color);\n",
              "      border-left-color: var(--fill-color);\n",
              "    }\n",
              "    20% {\n",
              "      border-color: transparent;\n",
              "      border-left-color: var(--fill-color);\n",
              "      border-top-color: var(--fill-color);\n",
              "    }\n",
              "    30% {\n",
              "      border-color: transparent;\n",
              "      border-left-color: var(--fill-color);\n",
              "      border-top-color: var(--fill-color);\n",
              "      border-right-color: var(--fill-color);\n",
              "    }\n",
              "    40% {\n",
              "      border-color: transparent;\n",
              "      border-right-color: var(--fill-color);\n",
              "      border-top-color: var(--fill-color);\n",
              "    }\n",
              "    60% {\n",
              "      border-color: transparent;\n",
              "      border-right-color: var(--fill-color);\n",
              "    }\n",
              "    80% {\n",
              "      border-color: transparent;\n",
              "      border-right-color: var(--fill-color);\n",
              "      border-bottom-color: var(--fill-color);\n",
              "    }\n",
              "    90% {\n",
              "      border-color: transparent;\n",
              "      border-bottom-color: var(--fill-color);\n",
              "    }\n",
              "  }\n",
              "</style>\n",
              "\n",
              "  <script>\n",
              "    async function quickchart(key) {\n",
              "      const quickchartButtonEl =\n",
              "        document.querySelector('#' + key + ' button');\n",
              "      quickchartButtonEl.disabled = true;  // To prevent multiple clicks.\n",
              "      quickchartButtonEl.classList.add('colab-df-spinner');\n",
              "      try {\n",
              "        const charts = await google.colab.kernel.invokeFunction(\n",
              "            'suggestCharts', [key], {});\n",
              "      } catch (error) {\n",
              "        console.error('Error during call to suggestCharts:', error);\n",
              "      }\n",
              "      quickchartButtonEl.classList.remove('colab-df-spinner');\n",
              "      quickchartButtonEl.classList.add('colab-df-quickchart-complete');\n",
              "    }\n",
              "    (() => {\n",
              "      let quickchartButtonEl =\n",
              "        document.querySelector('#df-e4462bc5-402c-47e6-8752-d417c3f3e8a8 button');\n",
              "      quickchartButtonEl.style.display =\n",
              "        google.colab.kernel.accessAllowed ? 'block' : 'none';\n",
              "    })();\n",
              "  </script>\n",
              "</div>\n",
              "\n",
              "    </div>\n",
              "  </div>\n"
            ],
            "application/vnd.google.colaboratory.intrinsic+json": {
              "type": "dataframe",
              "variable_name": "data",
              "summary": "{\n  \"name\": \"data\",\n  \"rows\": 44898,\n  \"fields\": [\n    {\n      \"column\": \"title\",\n      \"properties\": {\n        \"dtype\": \"string\",\n        \"num_unique_values\": 38729,\n        \"samples\": [\n          \"U.S. top court again faults North Carolina on voting rights\",\n          \"In slap at Trump, some wealthy Republicans campaign for Clinton\",\n          \" Trump\\u2019s Twitter Meltdown During The VP Debate May Be The Whiniest, And Craziest, Yet (TWEETS)\"\n        ],\n        \"semantic_type\": \"\",\n        \"description\": \"\"\n      }\n    },\n    {\n      \"column\": \"text\",\n      \"properties\": {\n        \"dtype\": \"string\",\n        \"num_unique_values\": 38646,\n        \"samples\": [\n          \"Right-ing paranoid whackjob Pat Boone has declared SNL is now venerating Satan, because of a parody skit they ran called  God is a Boob Man.  The skit was making some light-hearted humor at recent attempts to pass anti-LGBT laws in many states. The skit is absolutely hilarious and is a parody of other recent Christian movie trailers for such films as  God s not dead. It isn t clear how Boone saw the skit since he clearly hates SNL and shouldn t be watching it as a result. Perhaps he watches it just to get outraged. He certainly did get upset, though, when he took it upon himself to Godsplain God to the rest of us:God is not thin-skinned. But he does demand reverence. If you have any brains at all you don t pitch yourself against someone who created all things, the God of the Bible. They don t have to apologize to Christians [but] when you come against God and the Holy Spirit who are one and the same, you are bringing upon yourself eternal condemnation. Source: Right Wing WatchBoone went on to not only accuse SNL of being supporters of Satan, but he also outed SNL as a secret Jew-hating enterprise as well: Something can be devilishly funny, but this skit is diabolical. God has only one real enemy   Satan. Satan ridicules faith, and they re taking Satan s side. They re also ridiculing me and the film, telling impressionable young people not to see it because it s ridiculous. Then they throw in that the lawyer is Jewish to make the Christian look even worse, but it s just anti-Semitic. Source: Fox NewsYeah, he sure nailed it. Saturday Night Live is secretly anti-Jew. Just think about how stupid that sounds for a few moments.Then, to prove that he s a couple cans short of a six-pack, Boone said he didn t feel that SNL needed to apologize to Christians  followed a few moments later by him demanding that SNL apologizes to Christians. He literally real-time flip-flopped.Boone even went so far as to suggest that gay people should be offended at SNL for being  portrayed as more bigoted than Christians.  Notice he said  more  bigoted. He literally admitted that Christians like him are bigoted, by using the word  more. As if this wasn t embarrassing enough, the producer of  God s Not Dead 2,  (they actually made 2 of these?) Michael Scott, also complained that SNL is not portraying his movie  accurately  proving that he has absolutely NO CLUE how parody or satire works.Scott also chimed in with another incredibly funny comment, saying that parody like the SNL skit  goes too far  and  can cause divisions  among us.Really? Anti-LGBT/Pro-discrimination law doesn t go too far, and bigoted irrational hate doesn t cause divisions. But, a parody skit on SNL is the great doom of humanity. You really couldn t intentionally make up something that sounds as stupid as the things fundie Christians say naturally, these days.Featured image via Fox News screen capture\",\n          \"BATTAMBANG, Cambodia (Reuters) - Sin Rozeth s attempts to show the benefits of grassroots democracy to some of the poorest people in the Cambodian city of Battambang are in peril. The 30-year-old daughter of a vegetable seller became the head of Ochar commune, the equivalent of local council leader, in elections in June. Her victory was part of an  all politics is local  strategy that helped the opposition Cambodia National Rescue Party (CNRP) win 40 percent of the 1,646 local seats at stake. Previously it had just 2 percent. But the authoritarian government of former Khmer Rouge commander Hun Sen is now cracking down at every level on a party that had shown it might beat him at elections due next July. The longest-serving prime minister in the world accuses the CNRP of doing the bidding of the United States. Hun Sen s government has arrested CNRP leader Kem Sokha on treason charges and taken steps to have the party dissolved altogether. Once vocal rights groups have also been silenced and media critical of the ruling party have been repressed.  For Sin Rozeth, it has meant warning letters from city and provincial authorities threatening to remove her.  Now voters are showing signs of discouragement in Ochar, a community of 18,000 where Battambang spills into rice fields and dwellings patched from metal sheet and wood sit alongside low-rise cinderblock homes. Few new voters in the commune have registered ahead of next year s national elections, she said. It is the same picture across Cambodia. The electoral commission estimated 1.6 million people needed to register - either because they had come of age or had been missed before   and barely a quarter have done so ahead of a Nov. 9 deadline.     At stake is the shaky democracy that Western donors spent billions of dollars trying to build after the genocide of the Khmer Rouge killed an estimated 1.7 million people - around a quarter of the population - between 1975 and 1979. Hun Sen s dominance dates from 1985, when he became prime minister under the patronage of occupying Vietnamese forces he had helped to drive out his former Khmer Rouge comrades. A 1991 peace deal ended civil war and U.N.-supervised elections were held in 1993. Hun Sen lost, but maneuvered to keep power and has used force and the courts to undermine opponents ever since. Sin Rozeth, who took up politics after dropping out of university for lack of money, said she made some money through helping others with real estate deals in Battambang province to support herself and her single mother, who raised her. Her commune s official budget had been frozen and she had to pay the office s electricity bill from her own pocket, she said. Donors in Cambodia and abroad also helped. They bought a computer and plastic chairs for the office.  It is very hard to work,  Sin Rozeth said. City and provincial authorities have sent three warning letters. Among the accusations: offering services free of charge, discriminating against ruling party officials, usurping the role of the commune clerk and holding meetings on Saturdays. The CNRP s commune chiefs elsewhere complain, too. Va Sam, of Kok Khleang commune in Phnom Penh, said the interior ministry had taken over issuing documents such as land titles and birth certificates, previously a big source of funds for the commune. Discrimination against CNRP commune chiefs was widespread, said Mu Sochua, a deputy of Kem Sokha who fled into exile fearing arrest.  Other communes face the same targeting if we shine and show too much competence,  she told Reuters. Battambang s provincial governor, Nguon Ratanak, from the government of the ruling Cambodia People s Party (CPP), told Reuters local leaders had to obey the law and denied stopping anyone from developing their communes.  They still want to apply the political policies used during the campaign,  he said.  Commune chiefs must work under the guidelines of the interior ministry, not their political party.          If the CNRP is banned, with a court decision due on Nov. 16, the ruling party would take control of all the communes the CNRP currently leads, based on a change to the election law approved by Cambodia s CPP-dominated parliament last month. The government dismisses criticism that the crackdown ahead of next July s election is turning Cambodia into a one-party state. It says it is only acting against those who have broken Cambodia s laws. Arrested in a midnight raid on Sept. 3, CNRP leader Kem Sokha was accused of plotting with Americans to organize a  color revolution  like those that toppled eastern European strongmen.   We can t let this dangerous revolution happen in Cambodia,  said senior interior ministry official Huy Vannak.  You try to put an American jacket onto a Cambodian and it doesn t fit.   Among those forced out even before Kem Sokha s arrest was the U.S. State Department funded National Democratic Institute (NDI), which spent 25 years on a democracy-building mission that cost an average $2 million a year for the past five years. Sin Rozeth, who was born two years after Hun Sen came to power in 1985, has benefited from its training, as did many members of the ruling party. It included lessons in campaigning - trainers taught her not to attack other parties, she said -  and how to present her own policies.        NDI said that since the recent elections, 138 ruling party members had participated in NDI activities along with 153 members of the opposition.  If this was an effort to try to collude with the opposition then we re guilty of colluding with the ruling party as well,  NDI president Kenneth Wollack told Reuters. Within days of Kem Sokha s arrest, a top Chinese official flew to Phnom Penh with words of support. China has replaced the United States as Cambodia s biggest single donor by far.  In the U.S. Congress, Senators John McCain and Dick Durbin have introduced a resolution that could lead to travel restrictions on Cambodian leaders.  Cambodian officials say they don t fear any penalties.  The Americans can t even control North Korea,  government spokesman Phay Siphan told Reuters.  Sin Rozeth believes the strategy of promising change locally as well as nationally helped explain her party s success. Facebook Live videos show the diminutive and energetic figure getting drains built through muddy streets of Battambang, famed for Cambodia s finest jasmine rice and its French colonial architecture, winning her followers far beyond the city.  I went out to meet people and get to know their problems. I went to funerals to pay condolences even if I didn t know the people,  said Sin Rozeth.    We just have to show what we can deliver day by day,  she said.  We re a new generation and we want to show that administration can be effective and clean and free of charge.  A 2013 video about that strategy was used as evidence against Kem Sokha. In it, he says he has the backing of unnamed Americans for a plan to win power requiring that  before changing the top level, we need to uproot the lower one . For Kem Sokha, it was a legitimate political strategy in a democracy. The government called it treason. \",\n          \"WASHINGTON (Reuters) - It would not be a bad idea for the European Central Bank and other central banks to follow the U.S. Federal Reserve\\u2019s example and change course away from an ultra-accommodative monetary policy, German Finance Minister Wolfgang Schaeuble said. Speaking on the sidelines of International Monetary Fund meetings in Washington, Schaeuble said the ultra-loose monetary policies in place in many areas of the world were not helpful. \\u201cIt is encouraging undue risk-taking, political complacency, capital misallocation and asset price bubbles,\\u201d he added. \\u201cThe Fed has initiated the exit from loose monetary policy. It wouldn\\u2019t be a bad idea, if the European Central bank and others were to start following this example,\\u201d he said. Three ECB policymakers said on Wednesday - days before a tense French presidential election and the ECB\\u2019s own policy meeting - that prospects for the euro zone economy had improved but the time to withdraw support has not yet come. Investors are on tenterhooks before Sunday\\u2019s first round vote in France, where two of the four leading candidates are threatening to leave the European Union and the euro currency. Any turmoil in the bond market after the French vote would push up borrowing costs for countries and companies - undoing some of the stimulus the ECB is providing - and even raise questions about the euro\\u2019s survival. While stressing that the ECB, and not the German government, sets monetary policy for the euro zone, Schaeuble added: \\u201cIt is true that the euro being undervalued, from a German perspective, benefits our exporters.\\u201d German officials have said Schaeuble and his delegation will stress the importance of globalization and free trade for growth at the talks in Washington this week, as well as the need for reforms to increase resilience against future shocks. \"\n        ],\n        \"semantic_type\": \"\",\n        \"description\": \"\"\n      }\n    },\n    {\n      \"column\": \"subject\",\n      \"properties\": {\n        \"dtype\": \"category\",\n        \"num_unique_values\": 8,\n        \"samples\": [\n          \"News\",\n          \"Government News\",\n          \"politicsNews\"\n        ],\n        \"semantic_type\": \"\",\n        \"description\": \"\"\n      }\n    },\n    {\n      \"column\": \"date\",\n      \"properties\": {\n        \"dtype\": \"category\",\n        \"num_unique_values\": 2397,\n        \"samples\": [\n          \"March 31, 2016\",\n          \"December 6, 2017\",\n          \"November 16, 2017\"\n        ],\n        \"semantic_type\": \"\",\n        \"description\": \"\"\n      }\n    },\n    {\n      \"column\": \"Target\",\n      \"properties\": {\n        \"dtype\": \"category\",\n        \"num_unique_values\": 2,\n        \"samples\": [\n          \"Fake\",\n          \"True\"\n        ],\n        \"semantic_type\": \"\",\n        \"description\": \"\"\n      }\n    },\n    {\n      \"column\": \"label\",\n      \"properties\": {\n        \"dtype\": \"boolean\",\n        \"num_unique_values\": 2,\n        \"samples\": [\n          true,\n          false\n        ],\n        \"semantic_type\": \"\",\n        \"description\": \"\"\n      }\n    }\n  ]\n}"
            }
          },
          "metadata": {},
          "execution_count": 18
        }
      ]
    },
    {
      "cell_type": "code",
      "execution_count": 19,
      "metadata": {
        "id": "6GR5qqqwoVAc",
        "colab": {
          "base_uri": "https://localhost:8080/",
          "height": 510
        },
        "outputId": "1c97a054-f3ec-4a15-b7f7-402725254890"
      },
      "outputs": [
        {
          "output_type": "execute_result",
          "data": {
            "text/plain": [
              "([<matplotlib.patches.Wedge at 0x7f918b14d690>,\n",
              "  <matplotlib.patches.Wedge at 0x7f918be530d0>],\n",
              " [Text(-1.1968727067385088, -0.0865778485782335, 'Fake'),\n",
              "  Text(1.1968726986325005, 0.08657796063754254, 'True')],\n",
              " [Text(-0.6981757455974634, -0.05050374500396954, '52.3%'),\n",
              "  Text(0.6981757408689586, 0.05050381037189981, '47.7%')])"
            ]
          },
          "metadata": {},
          "execution_count": 19
        },
        {
          "output_type": "display_data",
          "data": {
            "text/plain": [
              "<Figure size 640x480 with 1 Axes>"
            ],
            "image/png": "[encoded data removed]"
          },
          "metadata": {}
        }
      ],
      "source": [
        "# Checking if our data is well balanced\n",
        "label_size = [data['label'].sum(),len(data['label'])-data['label'].sum()]\n",
        "plt.pie(label_size,explode=[0.1,0.1],colors=['firebrick','navy'],startangle=90,shadow=True,labels=['Fake','True'],autopct='%1.1f%%')"
      ]
    },
    {
      "cell_type": "markdown",
      "source": [
        "## Train-test-split"
      ],
      "metadata": {
        "id": "Zj5h7QbnZC0t"
      }
    },
    {
      "cell_type": "code",
      "execution_count": 20,
      "metadata": {
        "id": "3P9DYEq3y6pR"
      },
      "outputs": [],
      "source": [
        "# Train-Validation-Test set split into 70:15:15 ratio\n",
        "# Train-Temp split\n",
        "train_text, temp_text, train_labels, temp_labels = train_test_split(data['title'], data['label'],\n",
        "                                                                    random_state=2018,\n",
        "                                                                    test_size=0.3,\n",
        "                                                                    stratify=data['Target'])\n",
        "# Validation-Test split\n",
        "val_text, test_text, val_labels, test_labels = train_test_split(temp_text, temp_labels,\n",
        "                                                                random_state=2018,\n",
        "                                                                test_size=0.5,\n",
        "                                                                stratify=temp_labels)"
      ]
    },
    {
      "cell_type": "markdown",
      "source": [
        "## BERT Fine-tuning"
      ],
      "metadata": {
        "id": "2ItKm0hDMujq"
      }
    },
    {
      "cell_type": "markdown",
      "source": [
        "### Load pretrained BERT Model"
      ],
      "metadata": {
        "id": "HIkcURDhz2R0"
      }
    },
    {
      "cell_type": "code",
      "execution_count": 32,
      "metadata": {
        "id": "w6skrhdVzW0b"
      },
      "outputs": [],
      "source": [
        "# Load BERT model and tokenizer via HuggingFace Transformers\n",
        "bert = AutoModel.from_pretrained('bert-base-uncased')\n",
        "tokenizer = BertTokenizerFast.from_pretrained('bert-base-uncased')"
      ]
    },
    {
      "cell_type": "markdown",
      "source": [
        "### Prepare Input Data"
      ],
      "metadata": {
        "id": "H1G4xtl7dXBD"
      }
    },
    {
      "cell_type": "code",
      "execution_count": 33,
      "metadata": {
        "id": "FDZx-O2xzcA_",
        "colab": {
          "base_uri": "https://localhost:8080/",
          "height": 466
        },
        "outputId": "7d24839c-6870-4115-a248-dbf0c63a7855"
      },
      "outputs": [
        {
          "output_type": "execute_result",
          "data": {
            "text/plain": [
              "Text(0, 0.5, 'Number of texts')"
            ]
          },
          "metadata": {},
          "execution_count": 33
        },
        {
          "output_type": "display_data",
          "data": {
            "text/plain": [
              "<Figure size 640x480 with 1 Axes>"
            ],
            "image/png": "[encoded data removed]"
          },
          "metadata": {}
        }
      ],
      "source": [
        "# Plot histogram of the number of words in train data 'title'\n",
        "seq_len = [len(title.split()) for title in train_text]\n",
        "\n",
        "pd.Series(seq_len).hist(bins = 40,color='firebrick')\n",
        "plt.xlabel('Number of Words')\n",
        "plt.ylabel('Number of texts')"
      ]
    },
    {
      "cell_type": "code",
      "source": [
        "# BERT Tokeizer Functionality\n",
        "sample_data = [\"Build fake news model.\",\n",
        "               \"Using bert.\"]                                         # sample data\n",
        "tokenized_sample_data = tokenizer.batch_encode_plus(sample_data,\n",
        "                                                    padding=True)     # encode text\n",
        "print(tokenized_sample_data)\n",
        "\n",
        "# Ref: https://huggingface.co/docs/transformers/preprocessing"
      ],
      "metadata": {
        "id": "ry0ptLTW-Chy",
        "colab": {
          "base_uri": "https://localhost:8080/"
        },
        "outputId": "041b350c-f67f-4346-bf73-7b7a3cab08b6"
      },
      "execution_count": 23,
      "outputs": [
        {
          "output_type": "stream",
          "name": "stdout",
          "text": [
            "{'input_ids': [[101, 3857, 8275, 2739, 2944, 1012, 102], [101, 2478, 14324, 1012, 102, 0, 0]], 'token_type_ids': [[0, 0, 0, 0, 0, 0, 0], [0, 0, 0, 0, 0, 0, 0]], 'attention_mask': [[1, 1, 1, 1, 1, 1, 1], [1, 1, 1, 1, 1, 0, 0]]}\n"
          ]
        }
      ]
    },
    {
      "cell_type": "code",
      "execution_count": 24,
      "metadata": {
        "id": "rfwINnZozkyd"
      },
      "outputs": [],
      "source": [
        "# Majority of titles above have word length under 15. So, we set max title length as 15\n",
        "MAX_LENGHT = 15\n",
        "# Tokenize and encode sequences in the train set\n",
        "tokens_train = tokenizer.batch_encode_plus(\n",
        "    train_text.tolist(),\n",
        "    max_length = MAX_LENGHT,\n",
        "    pad_to_max_length=True,\n",
        "    truncation=True\n",
        ")\n",
        "# tokenize and encode sequences in the validation set\n",
        "tokens_val = tokenizer.batch_encode_plus(\n",
        "    val_text.tolist(),\n",
        "    max_length = MAX_LENGHT,\n",
        "    pad_to_max_length=True,\n",
        "    truncation=True\n",
        ")\n",
        "# tokenize and encode sequences in the test set\n",
        "tokens_test = tokenizer.batch_encode_plus(\n",
        "    test_text.tolist(),\n",
        "    max_length = MAX_LENGHT,\n",
        "    pad_to_max_length=True,\n",
        "    truncation=True\n",
        ")"
      ]
    },
    {
      "cell_type": "code",
      "execution_count": 25,
      "metadata": {
        "id": "jE9PI9_H0Moi"
      },
      "outputs": [],
      "source": [
        "# Convert lists to tensors\n",
        "train_seq = torch.tensor(tokens_train['input_ids'])\n",
        "train_mask = torch.tensor(tokens_train['attention_mask'])\n",
        "train_y = torch.tensor(train_labels.tolist())\n",
        "\n",
        "val_seq = torch.tensor(tokens_val['input_ids'])\n",
        "val_mask = torch.tensor(tokens_val['attention_mask'])\n",
        "val_y = torch.tensor(val_labels.tolist())\n",
        "\n",
        "test_seq = torch.tensor(tokens_test['input_ids'])\n",
        "test_mask = torch.tensor(tokens_test['attention_mask'])\n",
        "test_y = torch.tensor(test_labels.tolist())"
      ]
    },
    {
      "cell_type": "code",
      "execution_count": 26,
      "metadata": {
        "id": "Oft-16jR0M6h"
      },
      "outputs": [],
      "source": [
        "# Data Loader structure definition\n",
        "from torch.utils.data import TensorDataset, DataLoader, RandomSampler, SequentialSampler\n",
        "batch_size = 32                                               #define a batch size\n",
        "\n",
        "train_data = TensorDataset(train_seq, train_mask, train_y)    # wrap tensors\n",
        "train_sampler = RandomSampler(train_data)                     # sampler for sampling the data during training\n",
        "train_dataloader = DataLoader(train_data, sampler=train_sampler, batch_size=batch_size)\n",
        "                                                              # dataLoader for train set\n",
        "val_data = TensorDataset(val_seq, val_mask, val_y)            # wrap tensors\n",
        "val_sampler = SequentialSampler(val_data)                     # sampler for sampling the data during training\n",
        "val_dataloader = DataLoader(val_data, sampler = val_sampler, batch_size=batch_size)\n",
        "                                                              # dataLoader for validation set"
      ]
    },
    {
      "cell_type": "markdown",
      "source": [
        "### Freeze Layers"
      ],
      "metadata": {
        "id": "VkHiWeqop3Q_"
      }
    },
    {
      "cell_type": "code",
      "source": [
        "# Freezing the parameters and defining trainable BERT structure\n",
        "for param in bert.parameters():\n",
        "    param.requires_grad = False    # false here means gradient need not be computed"
      ],
      "metadata": {
        "id": "dH-wI1yhzQkD"
      },
      "execution_count": 27,
      "outputs": []
    },
    {
      "cell_type": "markdown",
      "source": [
        "### Define Model Architecture"
      ],
      "metadata": {
        "id": "XAJPyGH4zaRZ"
      }
    },
    {
      "cell_type": "code",
      "execution_count": 28,
      "metadata": {
        "id": "5oC6f5jD0vm0"
      },
      "outputs": [],
      "source": [
        "class BERT_Arch(nn.Module):\n",
        "    def __init__(self, bert):\n",
        "      super(BERT_Arch, self).__init__()\n",
        "      self.bert = bert\n",
        "      self.dropout = nn.Dropout(0.1)            # dropout layer\n",
        "      self.relu =  nn.ReLU()                    # relu activation function\n",
        "      self.fc1 = nn.Linear(768,512)             # dense layer 1\n",
        "      self.fc2 = nn.Linear(512,2)               # dense layer 2 (Output layer)\n",
        "      self.softmax = nn.LogSoftmax(dim=1)       # softmax activation function\n",
        "    def forward(self, sent_id, mask):           # define the forward pass\n",
        "      cls_hs = self.bert(sent_id, attention_mask=mask)['pooler_output']\n",
        "                                                # pass the inputs to the model\n",
        "      x = self.fc1(cls_hs)\n",
        "      x = self.relu(x)\n",
        "      x = self.dropout(x)\n",
        "      x = self.fc2(x)                           # output layer\n",
        "      x = self.softmax(x)                       # apply softmax activation\n",
        "      return x\n",
        "\n",
        "model = BERT_Arch(bert)\n",
        "# Defining the hyperparameters (optimizer, weights of the classes and the epochs)\n",
        "# Define the optimizer\n",
        "from transformers import AdamW\n",
        "optimizer = AdamW(model.parameters(),\n",
        "                  lr = 1e-5)          # learning rate\n",
        "# Define the loss function\n",
        "cross_entropy  = nn.NLLLoss()\n",
        "# Number of training epochs\n",
        "epochs = 2"
      ]
    },
    {
      "cell_type": "markdown",
      "source": [
        "### Define Train & Evaluate Function"
      ],
      "metadata": {
        "id": "LGFpP494zgLh"
      }
    },
    {
      "cell_type": "code",
      "execution_count": 29,
      "metadata": {
        "id": "BEG81NvL1Rt9"
      },
      "outputs": [],
      "source": [
        "# Defining training and evaluation functions\n",
        "def train():\n",
        "  model.train()\n",
        "  total_loss, total_accuracy = 0, 0\n",
        "\n",
        "  for step,batch in enumerate(train_dataloader):                # iterate over batches\n",
        "    if step % 50 == 0 and not step == 0:                        # progress update after every 50 batches.\n",
        "      print('  Batch {:>5,}  of  {:>5,}.'.format(step, len(train_dataloader)))\n",
        "    batch = [r for r in batch]                                  # push the batch to gpu\n",
        "    sent_id, mask, labels = batch\n",
        "    model.zero_grad()                                           # clear previously calculated gradients\n",
        "    preds = model(sent_id, mask)                                # get model predictions for current batch\n",
        "    loss = cross_entropy(preds, labels)                         # compute loss between actual & predicted values\n",
        "    total_loss = total_loss + loss.item()                       # add on to the total loss\n",
        "    loss.backward()                                             # backward pass to calculate the gradients\n",
        "    torch.nn.utils.clip_grad_norm_(model.parameters(), 1.0)     # clip gradients to 1.0. It helps in preventing exploding gradient problem\n",
        "    optimizer.step()                                            # update parameters\n",
        "    preds=preds.detach().cpu().numpy()                          # model predictions are stored on GPU. So, push it to CPU\n",
        "\n",
        "  avg_loss = total_loss / len(train_dataloader)                 # compute training loss of the epoch\n",
        "                                                                # reshape predictions in form of (# samples, # classes)\n",
        "  return avg_loss                                 # returns the loss and predictions\n",
        "\n",
        "def evaluate():\n",
        "  print(\"\\nEvaluating...\")\n",
        "  model.eval()                                    # Deactivate dropout layers\n",
        "  total_loss, total_accuracy = 0, 0\n",
        "  for step,batch in enumerate(val_dataloader):    # Iterate over batches\n",
        "    if step % 50 == 0 and not step == 0:          # Progress update every 50 batches.\n",
        "                                                  # Calculate elapsed time in minutes.\n",
        "                                                  # Elapsed = format_time(time.time() - t0)\n",
        "      print('  Batch {:>5,}  of  {:>5,}.'.format(step, len(val_dataloader)))\n",
        "                                                  # Report progress\n",
        "    batch = [t for t in batch]                    # Push the batch to GPU\n",
        "    sent_id, mask, labels = batch\n",
        "    with torch.no_grad():                         # Deactivate autograd\n",
        "      preds = model(sent_id, mask)                # Model predictions\n",
        "      loss = cross_entropy(preds,labels)          # Compute the validation loss between actual and predicted values\n",
        "      total_loss = total_loss + loss.item()\n",
        "      preds = preds.detach().cpu().numpy()\n",
        "  avg_loss = total_loss / len(val_dataloader)         # compute the validation loss of the epoch\n",
        "  return avg_loss"
      ]
    },
    {
      "cell_type": "markdown",
      "source": [
        "### Model training"
      ],
      "metadata": {
        "id": "IARpecoUzloO"
      }
    },
    {
      "cell_type": "code",
      "execution_count": 35,
      "metadata": {
        "id": "uSN0ZPiW1d-e"
      },
      "outputs": [],
      "source": [
        "# Convert lists to tensors\n",
        "train_seq = torch.tensor(tokens_train['input_ids'])\n",
        "train_mask = torch.tensor(tokens_train['attention_mask'])\n",
        "train_y = torch.tensor(train_labels.tolist(), dtype=torch.long) # Change to long\n",
        "\n",
        "val_seq = torch.tensor(tokens_val['input_ids'])\n",
        "val_mask = torch.tensor(tokens_val['attention_mask'])\n",
        "val_y = torch.tensor(val_labels.tolist(), dtype=torch.long) # Change to long\n",
        "\n",
        "\n",
        "test_seq = torch.tensor(tokens_test['input_ids'])\n",
        "test_mask = torch.tensor(tokens_test['attention_mask'])\n",
        "test_y = torch.tensor(test_labels.tolist(), dtype=torch.long) # Change to long"
      ]
    },
    {
      "cell_type": "markdown",
      "source": [
        "### Model performance"
      ],
      "metadata": {
        "id": "Qp7jw9a6qiPt"
      }
    },
    {
      "cell_type": "code",
      "execution_count": 41,
      "metadata": {
        "id": "1fVcPQH5oTc6",
        "colab": {
          "base_uri": "https://localhost:8080/"
        },
        "outputId": "32ac2d39-ddcc-407a-b71d-f0967ce48eea"
      },
      "outputs": [
        {
          "output_type": "stream",
          "name": "stdout",
          "text": [
            "True\n"
          ]
        }
      ],
      "source": [
        "# load weights of best model\n",
        "import os\n",
        "import torch\n",
        "\n",
        "path = '/content/drive/MyDrive/Fake news detector/1wei.pt'  # Specify the correct path\n",
        "print(os.path.exists(path))  # Check file existence\n",
        "\n"
      ]
    },
    {
      "cell_type": "code",
      "execution_count": 44,
      "metadata": {
        "id": "aRgRYquAoWbu",
        "colab": {
          "base_uri": "https://localhost:8080/"
        },
        "outputId": "6fe2ccea-c44e-4fcd-87c3-961919647584"
      },
      "outputs": [
        {
          "output_type": "stream",
          "name": "stdout",
          "text": [
            "True\n",
            "              precision    recall  f1-score   support\n",
            "\n",
            "           0       0.86      0.87      0.86      3212\n",
            "           1       0.88      0.87      0.87      3523\n",
            "\n",
            "    accuracy                           0.87      6735\n",
            "   macro avg       0.87      0.87      0.87      6735\n",
            "weighted avg       0.87      0.87      0.87      6735\n",
            "\n"
          ]
        }
      ],
      "source": [
        "# load weights of best model\n",
        "import os\n",
        "import torch\n",
        "\n",
        "path = '/content/drive/MyDrive/Fake news detector/1wei.pt'  # Specify the correct path\n",
        "print(os.path.exists(path))  # Check file existence\n",
        "\n",
        "# Move the model to the device\n",
        "model.to(device)  # Add this line\n",
        "\n",
        "with torch.no_grad():\n",
        "  preds = model(test_seq.to(device), test_mask.to(device))  # Move inputs to device\n",
        "  preds = preds.detach().cpu().numpy()\n",
        "\n",
        "preds = np.argmax(preds, axis = 1)\n",
        "print(classification_report(test_y.cpu().numpy(), preds))  # Move test_y to CPU and convert to numpy"
      ]
    },
    {
      "cell_type": "markdown",
      "source": [
        "## Fake News Predictions"
      ],
      "metadata": {
        "id": "P95XPCMoq8nN"
      }
    },
    {
      "cell_type": "code",
      "source": [
        "# # load weights of best model\n",
        "# path = 'c1_fakenews_weights.pt'\n",
        "# model.load_state_dict(torch.load(path))"
      ],
      "metadata": {
        "id": "hVr9XJT14dO2"
      },
      "execution_count": 45,
      "outputs": []
    },
    {
      "cell_type": "code",
      "source": [
        "def predict_news():\n",
        "  \"\"\"Predicts the authenticity of news headlines provided by the user.\"\"\"\n",
        "  # Get user input\n",
        "  news_text = input(\"Enter the news headline (or type 'exit' to quit): \")\n",
        "  if news_text.lower() == 'exit':\n",
        "    return \"Exiting...\"\n",
        "\n",
        "  # Tokenize and encode\n",
        "  MAX_LENGHT = 15\n",
        "  tokens_unseen = tokenizer.batch_encode_plus(\n",
        "      [news_text],  # Wrap input in a list for batch processing\n",
        "      max_length=MAX_LENGHT,\n",
        "      pad_to_max_length=True,\n",
        "      truncation=True\n",
        "  )\n",
        "  unseen_seq = torch.tensor(tokens_unseen['input_ids']).to(device) # Move to device\n",
        "  unseen_mask = torch.tensor(tokens_unseen['attention_mask']).to(device) # Move to device\n",
        "\n",
        "  # Make prediction\n",
        "  with torch.no_grad():\n",
        "    preds = model(unseen_seq, unseen_mask)\n",
        "    preds = preds.detach().cpu().numpy()\n",
        "\n",
        "  prediction = np.argmax(preds, axis=1)[0]  # Get the prediction (0 or 1)\n",
        "\n",
        "  # Return result\n",
        "  return \"The provided news is likely \" + (\"fake\" if prediction == 1 else \"true\") + \".\"\n",
        "\n",
        "# Main loop with switch case\n",
        "while True:\n",
        "  print(\"\\nChoose an action:\")\n",
        "  print(\"1. Predict news authenticity\")\n",
        "  print(\"2. Exit\")\n",
        "\n",
        "  choice = input(\"Enter your choice: \")\n",
        "\n",
        "  if choice == '1':\n",
        "    result = predict_news()\n",
        "    print(result)\n",
        "  elif choice == '2':\n",
        "    print(\"Exiting...\")\n",
        "    break\n",
        "  else:\n",
        "    print(\"Invalid choice. Please try again.\")"
      ],
      "metadata": {
        "id": "vooQxtj5UBt-",
        "colab": {
          "base_uri": "https://localhost:8080/"
        },
        "outputId": "d3bc3011-f4df-4043-fd68-dd94affa2749"
      },
      "execution_count": 48,
      "outputs": [
        {
          "output_type": "stream",
          "name": "stdout",
          "text": [
            "\n",
            "Choose an action:\n",
            "1. Predict news authenticity\n",
            "2. Exit\n",
            "Enter your choice: 1\n",
            "Enter the news headline (or type 'exit' to quit): White House, Congress prepare for talks on spending, immigration\n",
            "The provided news is likely true.\n",
            "\n",
            "Choose an action:\n",
            "1. Predict news authenticity\n",
            "2. Exit\n",
            "Enter your choice: 1\n",
            "Enter the news headline (or type 'exit' to quit): Drunk Bragging Trump Staffer Started Russian Collusion Investigation\n",
            "The provided news is likely fake.\n",
            "\n",
            "Choose an action:\n",
            "1. Predict news authenticity\n",
            "2. Exit\n",
            "Enter your choice: 2\n",
            "Exiting...\n"
          ]
        }
      ]
    }
  ],
  "metadata": {
    "colab": {
      "provenance": [],
      "collapsed_sections": [
        "Zj5h7QbnZC0t",
        "HIkcURDhz2R0",
        "H1G4xtl7dXBD",
        "VkHiWeqop3Q_",
        "XAJPyGH4zaRZ",
        "LGFpP494zgLh",
        "IARpecoUzloO",
        "Qp7jw9a6qiPt",
        "P95XPCMoq8nN"
      ],
      "toc_visible": true,
      "include_colab_link": true
    },
    "language_info": {
      "name": "python"
    },
    "kernelspec": {
      "name": "python3",
      "display_name": "Python 3"
    },
    "gpuClass": "standard",
    "accelerator": "GPU"
  },
  "nbformat": 4,
  "nbformat_minor": 0
}